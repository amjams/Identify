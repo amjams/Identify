{
 "cells": [
  {
   "cell_type": "code",
   "execution_count": 1,
   "id": "b0b57287",
   "metadata": {},
   "outputs": [],
   "source": [
    "import numpy as np\n",
    "import matplotlib.pyplot as plt\n",
    "import os\n",
    "from PIL import Image\n",
    "import umap\n",
    "import time\n",
    "from datetime import datetime\n",
    "from sklearn.preprocessing import MinMaxScaler\n",
    "import seaborn as sns"
   ]
  },
  {
   "cell_type": "markdown",
   "id": "bd265ed0",
   "metadata": {},
   "source": [
    "### Load the abundance"
   ]
  },
  {
   "cell_type": "code",
   "execution_count": 2,
   "id": "7f57ac42",
   "metadata": {},
   "outputs": [
    {
     "ename": "FileNotFoundError",
     "evalue": "[Errno 2] No such file or directory: '../../../../primary_data/abundance_maps.npz'",
     "output_type": "error",
     "traceback": [
      "\u001b[0;31m---------------------------------------------------------------------------\u001b[0m",
      "\u001b[0;31mFileNotFoundError\u001b[0m                         Traceback (most recent call last)",
      "Cell \u001b[0;32mIn[2], line 1\u001b[0m\n\u001b[0;32m----> 1\u001b[0m abundance_maps \u001b[38;5;241m=\u001b[39m (\u001b[43mnp\u001b[49m\u001b[38;5;241;43m.\u001b[39;49m\u001b[43mload\u001b[49m\u001b[43m(\u001b[49m\u001b[38;5;124;43m'\u001b[39;49m\u001b[38;5;124;43m../../../../primary_data/abundance_maps.npz\u001b[39;49m\u001b[38;5;124;43m'\u001b[39;49m\u001b[43m)\u001b[49m[\u001b[38;5;124m'\u001b[39m\u001b[38;5;124marr_0\u001b[39m\u001b[38;5;124m'\u001b[39m])\u001b[38;5;241m/\u001b[39m\u001b[38;5;241m255\u001b[39m\n\u001b[1;32m      2\u001b[0m \u001b[38;5;28mprint\u001b[39m(abundance_maps\u001b[38;5;241m.\u001b[39mshape)\n\u001b[1;32m      4\u001b[0m \u001b[38;5;66;03m# select the abundance maps to be considered\u001b[39;00m\n",
      "File \u001b[0;32m~/Desktop/work/virtualenvs/edx/lib/python3.9/site-packages/numpy/lib/npyio.py:405\u001b[0m, in \u001b[0;36mload\u001b[0;34m(file, mmap_mode, allow_pickle, fix_imports, encoding, max_header_size)\u001b[0m\n\u001b[1;32m    403\u001b[0m     own_fid \u001b[38;5;241m=\u001b[39m \u001b[38;5;28;01mFalse\u001b[39;00m\n\u001b[1;32m    404\u001b[0m \u001b[38;5;28;01melse\u001b[39;00m:\n\u001b[0;32m--> 405\u001b[0m     fid \u001b[38;5;241m=\u001b[39m stack\u001b[38;5;241m.\u001b[39menter_context(\u001b[38;5;28;43mopen\u001b[39;49m\u001b[43m(\u001b[49m\u001b[43mos_fspath\u001b[49m\u001b[43m(\u001b[49m\u001b[43mfile\u001b[49m\u001b[43m)\u001b[49m\u001b[43m,\u001b[49m\u001b[43m \u001b[49m\u001b[38;5;124;43m\"\u001b[39;49m\u001b[38;5;124;43mrb\u001b[39;49m\u001b[38;5;124;43m\"\u001b[39;49m\u001b[43m)\u001b[49m)\n\u001b[1;32m    406\u001b[0m     own_fid \u001b[38;5;241m=\u001b[39m \u001b[38;5;28;01mTrue\u001b[39;00m\n\u001b[1;32m    408\u001b[0m \u001b[38;5;66;03m# Code to distinguish from NumPy binary files and pickles.\u001b[39;00m\n",
      "\u001b[0;31mFileNotFoundError\u001b[0m: [Errno 2] No such file or directory: '../../../../primary_data/abundance_maps.npz'"
     ]
    }
   ],
   "source": [
    "abundance_maps = (np.load('../../../../primary_data/abundance_maps.npz')['arr_0'])/255\n",
    "print(abundance_maps.shape)\n",
    "\n",
    "# select the abundance maps to be considered\n",
    "indices = [3,4,6,1,9,7]\n",
    "colors = [[1,0,0], [0,1,0], [0,0,1], [0,1,1], [1,0,1], [1,1,0]]\n",
    "\n",
    "abundance_maps = abundance_maps[indices,:,:,:]\n",
    "print(abundance_maps.shape)"
   ]
  },
  {
   "cell_type": "markdown",
   "id": "c316d0f2",
   "metadata": {},
   "source": [
    "### load the data folder"
   ]
  },
  {
   "cell_type": "code",
   "execution_count": null,
   "id": "553bba92",
   "metadata": {},
   "outputs": [],
   "source": [
    "spectrum_folder = '../../../../primary_data/main_mosaic_6by5/Spectrum2D_PC10/'\n",
    "file_names = []\n",
    "tmp = os.listdir(spectrum_folder)\n",
    "for filename in tmp:\n",
    "    if filename.endswith('.npz'):\n",
    "        file_names.append(filename)\n",
    "\n",
    "file_names = sorted(file_names)\n",
    "files = [os.path.join(spectrum_folder,file_name) for file_name in file_names]\n"
   ]
  },
  {
   "cell_type": "markdown",
   "id": "bd050276",
   "metadata": {},
   "source": [
    "### subsample from all the tiles the spectrum 2D "
   ]
  },
  {
   "cell_type": "code",
   "execution_count": null,
   "id": "5c73ad54",
   "metadata": {},
   "outputs": [],
   "source": [
    "subsample_size = int(0.1*1024**2)\n",
    "np.random.rand(100); sample = np.random.choice(1024**2, subsample_size)\n",
    "\n",
    "spectrum_2D = np.zeros((subsample_size*abundance_maps.shape[3],250))\n",
    "\n",
    "for tile_idx in range(abundance_maps.shape[3]):\n",
    "    # data\n",
    "    spectrum_2D[tile_idx*subsample_size:(tile_idx+1)*subsample_size,:] =  np.load(files[tile_idx])['spectrum_2D'][sample,:]\n",
    "    print(tile_idx,end='\\r')"
   ]
  },
  {
   "cell_type": "markdown",
   "id": "2d14f6f0",
   "metadata": {},
   "source": [
    "### get the corresponding RGBA colors"
   ]
  },
  {
   "cell_type": "code",
   "execution_count": null,
   "id": "fdb4310c",
   "metadata": {},
   "outputs": [],
   "source": [
    "colors_list = np.zeros((subsample_size*abundance_maps.shape[3],4))   #RGBA\n",
    "\n",
    "for tile_idx in range(abundance_maps.shape[3]):\n",
    "    # color\n",
    "    max_color_tile = np.argmax(abundance_maps_selected[:,:,:,tile_idx],axis=0)\n",
    "    alpha_tile = np.max(abundance_maps_selected[:,:,:,tile_idx],axis=0)\n",
    "    \n",
    "    # reshape\n",
    "    max_color_tile = max_color_tile.reshape((1024**2))\n",
    "    alpha_tile = alpha_tile.reshape(((1024**2)))\n",
    "    \n",
    "    # set RGB then A\n",
    "    colors_list[tile_idx*subsample_size:(tile_idx+1)*subsample_size,0:3] = [colors[i] for i in max_color_tile[sample]]\n",
    "    colors_list[tile_idx*subsample_size:(tile_idx+1)*subsample_size,3] = [alpha_tile[i] for i in max_color_tile[sample]]\n",
    "    "
   ]
  },
  {
   "cell_type": "markdown",
   "id": "6bc8ce6b",
   "metadata": {},
   "source": [
    "### Apply umap"
   ]
  },
  {
   "cell_type": "code",
   "execution_count": null,
   "id": "2b1ffb38",
   "metadata": {},
   "outputs": [],
   "source": [
    "# Apply UMAP directly\n",
    "start = datetime.now()\n",
    "umap_metric = 'chevyshev'\n",
    "umap1 = umap.UMAP(n_components=2, n_neighbors=10, min_dist=0.0, metric=umap_metric,random_state=100)\n",
    "embeddings = umap1.fit_transform(spectrum_2D)\n",
    "\n",
    "end = datetime.now()\n",
    "# if 3 dimensions for UMAP, which ones to use (0,1,or 2)\n",
    "dim_a = 0\n",
    "dim_b = 1\n",
    "\n",
    "# scaling\n",
    "scaler = MinMaxScaler()\n",
    "embeddings = scaler.fit_transform(embeddings)\n",
    "\n",
    "etime = end-start\n",
    "print('Duration for UMAP fitting: {}'.format(end - start))"
   ]
  },
  {
   "cell_type": "markdown",
   "id": "d61dc7b1",
   "metadata": {},
   "source": [
    "### Visualize"
   ]
  },
  {
   "cell_type": "code",
   "execution_count": null,
   "id": "4f9ddcba",
   "metadata": {},
   "outputs": [],
   "source": [
    "%matplotlib inline \n",
    "\n",
    "f, ax = plt.subplots(figsize=(20,20))\n",
    "sns.despine(left=True, bottom=True, right=True)\n",
    "ax.set_facecolor(\"black\")\n",
    "ax.scatter(embeddings[:,dim_a],MinMaxScaler(feature_range=(0, 2)).embeddings[:,dim_b], s=0.05,c=colors_list,marker='o') \n",
    "f.tight_layout() \n",
    "\n",
    "#plt.axis('off')\n",
    "#plt.show()\n",
    "\n",
    "ax.xaxis.set_tick_params(labelbottom=False)\n",
    "ax.yaxis.set_tick_params(labelleft=False)\n",
    "\n",
    "plt.legend(loc=3)\n",
    "plt.savefig('../../../../primary_data/other_png/Figure_6_%s.png' % umap_metric,dpi=300)"
   ]
  },
  {
   "cell_type": "code",
   "execution_count": null,
   "id": "0b6ab173",
   "metadata": {},
   "outputs": [],
   "source": []
  }
 ],
 "metadata": {
  "kernelspec": {
   "display_name": "edx",
   "language": "python",
   "name": "edx"
  },
  "language_info": {
   "codemirror_mode": {
    "name": "ipython",
    "version": 3
   },
   "file_extension": ".py",
   "mimetype": "text/x-python",
   "name": "python",
   "nbconvert_exporter": "python",
   "pygments_lexer": "ipython3",
   "version": "3.9.6"
  }
 },
 "nbformat": 4,
 "nbformat_minor": 5
}
