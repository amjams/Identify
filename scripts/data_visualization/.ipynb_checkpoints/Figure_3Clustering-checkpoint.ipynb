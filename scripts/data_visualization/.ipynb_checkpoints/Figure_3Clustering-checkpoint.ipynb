{
 "cells": [
  {
   "cell_type": "code",
   "execution_count": 11,
   "id": "cb6e00bf",
   "metadata": {},
   "outputs": [],
   "source": [
    "# load libraries\n",
    "import numpy as np\n",
    "import os\n",
    "import sys\n",
    "sys.path.append(\"../\")\n",
    "from functions_EDX import *\n",
    "import time\n",
    "import matplotlib.pyplot as plt\n",
    "from datetime import datetime\n",
    "from matplotlib import cm\n",
    "from mpl_toolkits.axes_grid1 import make_axes_locatable\n",
    "import random\n",
    "from matplotlib.colors import ListedColormap, LinearSegmentedColormap\n",
    "import seaborn as sns\n",
    "import pickle\n",
    "import wget\n",
    "import gdown\n",
    "from sklearn.preprocessing import LabelEncoder"
   ]
  },
  {
   "cell_type": "markdown",
   "id": "14e5e6fd",
   "metadata": {},
   "source": [
    "## Download"
   ]
  },
  {
   "cell_type": "code",
   "execution_count": 12,
   "id": "e08f9325",
   "metadata": {},
   "outputs": [
    {
     "data": {
      "text/plain": [
       "'../../../primary_data/abundance_maps.npz'"
      ]
     },
     "execution_count": 12,
     "metadata": {},
     "output_type": "execute_result"
    }
   ],
   "source": [
    "url_abundance_maps = \"https://drive.google.com/uc?export=download&id=1Wwkd5HeddZowBTMnsSfDGfX6Z0cB3LSu\"\n",
    "gdown.download(url_abundance_maps,'../../../primary_data/abundance_maps.npz',quiet='False')"
   ]
  },
  {
   "cell_type": "markdown",
   "id": "7c74dd04",
   "metadata": {},
   "source": [
    "## load data"
   ]
  },
  {
   "cell_type": "code",
   "execution_count": 9,
   "id": "7c7194c6",
   "metadata": {},
   "outputs": [],
   "source": [
    "embeddings = np.load('../../../primary_data/abundance_maps.npz')['embeddings']\n",
    "cluster_labels = np.load('../../../primary_data/abundance_maps.npz')['cluster_labels']"
   ]
  },
  {
   "cell_type": "markdown",
   "id": "e350c296",
   "metadata": {},
   "source": [
    "## Necessary variables"
   ]
  },
  {
   "cell_type": "code",
   "execution_count": 10,
   "id": "eeb42ea5",
   "metadata": {},
   "outputs": [],
   "source": [
    "n_clusters = len(np.unique(cluster_labels))-1"
   ]
  },
  {
   "cell_type": "markdown",
   "id": "811de78f",
   "metadata": {},
   "source": [
    "## Notes:\n",
    "* Still missing, could be added later: highlighted tile and cluster populations, as they were not saved in the abundance map array"
   ]
  },
  {
   "cell_type": "markdown",
   "id": "3d3fceb1",
   "metadata": {},
   "source": [
    "## Clustering plot"
   ]
  },
  {
   "cell_type": "raw",
   "id": "ff3fda71",
   "metadata": {},
   "source": [
    "%matplotlib inline \n",
    "\n",
    "\n",
    "# options\n",
    "outliers = False\n",
    "clustered = (cluster_labels >= 0)\n",
    "\n",
    "\n",
    "# Colors\n",
    "chosen_tiles = [3,4,6,1,9,7]\n",
    "chosen_colors = [[1,0,0], [0,1,0], [0,0,1], [0,1,1], [1,0,1], [1,1,0]]\n",
    "colors = [[0,0,0] for x in range(n_clusters)] \n",
    "for idx,tile in enumerate(chosen_tiles):\n",
    "    colors[tile] = chosen_colors[idx]\n",
    "\n",
    "\n",
    "\n",
    "# start figure\n",
    "f, ax = plt.subplots(figsize=(15,15))\n",
    "sns.despine(left=True, bottom=True, right=True)\n",
    "\n",
    "if outliers:\n",
    "    ax.scatter(embeddings[~clustered, 0],embeddings[~clustered, 1],color=(0.5, 0.5, 0.5),s=5,marker='x',alpha=1)\n",
    "    ax.scatter(embeddings[~clustered, 0],embeddings[~clustered, 1],color=(0.5, 0.5, 0.5),s=5,marker='x',alpha=0.1)\n",
    "\n",
    "high_cmap = ListedColormap([colors[i] for i in np.unique(cluster_labels[clustered])])\n",
    "sct1 = ax.scatter(embeddings[clustered, 0],embeddings[clustered, 1],c=LabelEncoder().fit_transform(cluster_labels[clustered]),marker='.',s=15,cmap=high_cmap, alpha=1);\n",
    "\n",
    "# just for the cbar\n",
    "sct3 = ax.scatter(embeddings[clustered, 0],embeddings[clustered, 1],c=cluster_labels[clustered],marker='o',s=3,cmap=high_cmap,facecolors='none', alpha=1);\n",
    "\n",
    "\n",
    "ax.tick_params(axis='x',which='both',bottom=False,top=False,labelbottom=False)\n",
    "ax.tick_params(axis='y',which='both',bottom=False,top=False,labelbottom=False)\n",
    "plt.axis('off')\n",
    "\n",
    "\n",
    "f.tight_layout()\n",
    "#plt.savefig('../svg/figure_3Clustering.svg')\n",
    "#plt.savefig('../png/figure_3Clustering.png',dpi=300)"
   ]
  },
  {
   "cell_type": "raw",
   "id": "5aebfa69",
   "metadata": {},
   "source": []
  },
  {
   "cell_type": "markdown",
   "id": "43fdf1af",
   "metadata": {},
   "source": []
  }
 ],
 "metadata": {
  "kernelspec": {
   "display_name": "edx",
   "language": "python",
   "name": "edx"
  },
  "language_info": {
   "codemirror_mode": {
    "name": "ipython",
    "version": 3
   },
   "file_extension": ".py",
   "mimetype": "text/x-python",
   "name": "python",
   "nbconvert_exporter": "python",
   "pygments_lexer": "ipython3",
   "version": "3.9.6"
  }
 },
 "nbformat": 4,
 "nbformat_minor": 5
}
