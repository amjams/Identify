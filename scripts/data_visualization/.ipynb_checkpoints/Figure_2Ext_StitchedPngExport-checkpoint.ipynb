{
 "cells": [
  {
   "cell_type": "code",
   "execution_count": 3,
   "id": "b17aa53b",
   "metadata": {},
   "outputs": [],
   "source": [
    "from PIL import Image\n",
    "import tifffile as tf"
   ]
  },
  {
   "cell_type": "code",
   "execution_count": 4,
   "id": "3c6c6280",
   "metadata": {},
   "outputs": [],
   "source": [
    "haadf_stitched = tf.imread('../../../primary_data/stitched/tiff/HAADF.tif')\n",
    "color_stitched = tf.imread('../../../primary_data/stitched/tiff/Multicolor.tif')\n",
    "\n",
    "im = Image.fromarray(haadf_stitched)\n",
    "im.save('../../../primary_data/stitched/png/HAADF.png' )\n",
    "\n",
    "im = Image.fromarray(color_stitched)\n",
    "im.save('../../../primary_data/stitched/png/Multicolor.png' )\n",
    "    "
   ]
  }
 ],
 "metadata": {
  "kernelspec": {
   "display_name": "Python 3 (ipykernel)",
   "language": "python",
   "name": "python3"
  },
  "language_info": {
   "codemirror_mode": {
    "name": "ipython",
    "version": 3
   },
   "file_extension": ".py",
   "mimetype": "text/x-python",
   "name": "python",
   "nbconvert_exporter": "python",
   "pygments_lexer": "ipython3",
   "version": "3.9.13"
  }
 },
 "nbformat": 4,
 "nbformat_minor": 5
}
