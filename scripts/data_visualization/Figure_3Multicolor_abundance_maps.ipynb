{
 "cells": [
  {
   "cell_type": "code",
   "execution_count": 4,
   "id": "98205d3a",
   "metadata": {},
   "outputs": [],
   "source": [
    "import numpy as np\n",
    "import matplotlib.pyplot as plt\n",
    "import hyperspy.api as hs\n",
    "import tifffile as tf\n",
    "import os\n",
    "import gdown\n",
    "from PIL import Image"
   ]
  },
  {
   "cell_type": "markdown",
   "id": "099e45f7",
   "metadata": {},
   "source": [
    "## Download data"
   ]
  },
  {
   "cell_type": "code",
   "execution_count": 5,
   "id": "ac961b94",
   "metadata": {},
   "outputs": [
    {
     "data": {
      "text/plain": [
       "'../../../primary_data/abundance_maps.npz'"
      ]
     },
     "execution_count": 5,
     "metadata": {},
     "output_type": "execute_result"
    }
   ],
   "source": [
    "url_abundance_maps = \"https://drive.google.com/uc?export=download&id=1Wwkd5HeddZowBTMnsSfDGfX6Z0cB3LSu\"\n",
    "gdown.download(url_abundance_maps,'../../../primary_data/abundance_maps.npz',quiet='False')"
   ]
  },
  {
   "cell_type": "markdown",
   "id": "7561b91c",
   "metadata": {},
   "source": [
    "## Load data"
   ]
  },
  {
   "cell_type": "code",
   "execution_count": 2,
   "id": "a4fa891c",
   "metadata": {},
   "outputs": [
    {
     "name": "stdout",
     "output_type": "stream",
     "text": [
      "(11, 1024, 1024, 30)\n"
     ]
    }
   ],
   "source": [
    "abundance_maps = (np.load('../../../primary_data/abundance_maps.npz')['arr_0'])/255\n",
    "print(abundance_maps.shape)"
   ]
  },
  {
   "cell_type": "code",
   "execution_count": 3,
   "id": "5c061358",
   "metadata": {
    "scrolled": true
   },
   "outputs": [
    {
     "name": "stdout",
     "output_type": "stream",
     "text": [
      "1.0\n"
     ]
    }
   ],
   "source": [
    "# select the abundance maps to be considered\n",
    "indices = [3,4,6,1,9,7]\n",
    "colors = [[1,0,0], [0,1,0], [0,0,1], [0,1,1], [1,0,1], [1,1,0]]\n",
    "\n",
    "abundance_maps_selected = np.zeros((len(indices), abundance_maps.shape[1], abundance_maps.shape[2], abundance_maps.shape[3]))\n",
    "\n",
    "for i in range(len(indices)):\n",
    "    abundance_maps_selected[i,:,:,:] = abundance_maps[indices[i],:,:,:]\n",
    "print(np.max(abundance_maps_selected))"
   ]
  },
  {
   "cell_type": "code",
   "execution_count": 8,
   "id": "08d2ca77",
   "metadata": {},
   "outputs": [],
   "source": [
    "# pixel-wise coloring based on the most dominant endmember with intensity scaled its weight\n",
    "\n",
    "rgb_image = np.zeros((3,abundance_maps_selected.shape[1], abundance_maps_selected.shape[2], abundance_maps_selected.shape[3]))\n",
    "\n",
    "for t in range(rgb_image.shape[3]):\n",
    "    for x in range(rgb_image.shape[1]):\n",
    "        for y in range(rgb_image.shape[2]):\n",
    "            idx = np.argmax(abundance_maps_selected[:,x,y,t])\n",
    "            rgb_image[0,x,y,t] = colors[idx][0] * abundance_maps_selected[idx,x,y,t]\n",
    "            rgb_image[1,x,y,t] = colors[idx][1] * abundance_maps_selected[idx,x,y,t]\n",
    "            rgb_image[2,x,y,t] = colors[idx][2] * abundance_maps_selected[idx,x,y,t]\n",
    "    rgb_tiff = (np.copy(rgb_image[:,:,:,t]).transpose(1,2,0)*255).astype('uint8')\n",
    "    #tf.imwrite('../../secondary_data/main_mosaic_5by6_multicolor_tiffs/' + 'Tile_' + '%02d' %(t) + '.tiff', rgb_tiff, photometric = 'rgb')\n",
    "    im_png = Image.fromarray(rgb_tiff)\n",
    "    im_png.save('../../../primary_data/main_mosaic_6by5/multicolor_png/' + 'Tile_' + '%02d' %(t) + '.png')\n",
    "    "
   ]
  }
 ],
 "metadata": {
  "kernelspec": {
   "display_name": "edx",
   "language": "python",
   "name": "edx"
  },
  "language_info": {
   "codemirror_mode": {
    "name": "ipython",
    "version": 3
   },
   "file_extension": ".py",
   "mimetype": "text/x-python",
   "name": "python",
   "nbconvert_exporter": "python",
   "pygments_lexer": "ipython3",
   "version": "3.9.6"
  }
 },
 "nbformat": 4,
 "nbformat_minor": 5
}
