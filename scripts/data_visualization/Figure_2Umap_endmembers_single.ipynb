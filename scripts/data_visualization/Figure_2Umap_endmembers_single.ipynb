{
 "cells": [
  {
   "cell_type": "code",
   "execution_count": 3,
   "id": "2d045223",
   "metadata": {},
   "outputs": [],
   "source": [
    "# imports\n",
    "import os\n",
    "import sys\n",
    "sys.path.append(\"../\")\n",
    "import numpy as np\n",
    "from sklearn.decomposition import PCA\n",
    "import umap\n",
    "from functions_EDX import *\n",
    "import time\n",
    "from ipywidgets import interactive\n",
    "import matplotlib.pyplot as plt\n",
    "from scipy.optimize import nnls \n",
    "from scipy.stats import zscore\n",
    "import hdbscan\n",
    "from datetime import datetime\n",
    "import seaborn as sns\n",
    "from skimage.feature import peak_local_max\n",
    "from matplotlib import cm\n",
    "import cv2\n",
    "from sklearn.preprocessing import MinMaxScaler\n",
    "from VCA import *"
   ]
  },
  {
   "cell_type": "markdown",
   "id": "2753b5a7",
   "metadata": {},
   "source": [
    "## Choose a tile and load preprocessed data"
   ]
  },
  {
   "cell_type": "code",
   "execution_count": 4,
   "id": "04902f19",
   "metadata": {},
   "outputs": [],
   "source": [
    "tile_idx = 1\n",
    "\n",
    "spectrum_folder = '../../../primary_data/main_mosaic_6by5/Spectrum2D_PC10'\n",
    "file_names = []\n",
    "tmp = os.listdir(spectrum_folder)\n",
    "for filename in tmp:\n",
    "    if filename.endswith('.npz'):\n",
    "        file_names.append(filename)\n",
    "\n",
    "file_names = sorted(file_names)\n",
    "files = [os.path.join(spectrum_folder,file_name) for file_name in file_names]\n",
    "\n",
    "spectrum_2D = np.load(files[tile_idx])['spectrum_2D']"
   ]
  },
  {
   "cell_type": "code",
   "execution_count": null,
   "id": "b8a23b4c",
   "metadata": {},
   "outputs": [],
   "source": []
  }
 ],
 "metadata": {
  "kernelspec": {
   "display_name": "edx",
   "language": "python",
   "name": "edx"
  },
  "language_info": {
   "codemirror_mode": {
    "name": "ipython",
    "version": 3
   },
   "file_extension": ".py",
   "mimetype": "text/x-python",
   "name": "python",
   "nbconvert_exporter": "python",
   "pygments_lexer": "ipython3",
   "version": "3.9.6"
  }
 },
 "nbformat": 4,
 "nbformat_minor": 5
}
