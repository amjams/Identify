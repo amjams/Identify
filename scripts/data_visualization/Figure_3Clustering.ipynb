{
 "cells": [
  {
   "cell_type": "code",
   "execution_count": 10,
   "id": "25bc8aac",
   "metadata": {},
   "outputs": [
    {
     "name": "stderr",
     "output_type": "stream",
     "text": [
      "/Users/aj/Desktop/work/virtualenvs/edx/lib/python3.9/site-packages/urllib3/__init__.py:34: NotOpenSSLWarning: urllib3 v2.0 only supports OpenSSL 1.1.1+, currently the 'ssl' module is compiled with 'LibreSSL 2.8.3'. See: https://github.com/urllib3/urllib3/issues/3020\n",
      "  warnings.warn(\n"
     ]
    }
   ],
   "source": [
    "# load libraries\n",
    "import numpy as np\n",
    "import os\n",
    "import sys\n",
    "sys.path.append(\"../\")\n",
    "from sklearn.preprocessing import MinMaxScaler\n",
    "from sklearn.preprocessing import LabelEncoder\n",
    "import umap\n",
    "from functions_EDX import *\n",
    "import time\n",
    "import matplotlib.pyplot as plt\n",
    "from scipy.optimize import nnls \n",
    "from scipy.stats import zscore\n",
    "from datetime import datetime\n",
    "from matplotlib import cm\n",
    "import hdbscan\n",
    "from mpl_toolkits.axes_grid1 import make_axes_locatable\n",
    "import random\n",
    "from skimage.color import label2rgb\n",
    "from distinctipy import distinctipy\n",
    "from matplotlib.colors import ListedColormap, LinearSegmentedColormap\n",
    "import seaborn as sns\n",
    "import pickle\n",
    "import wget\n",
    "import gdown"
   ]
  },
  {
   "cell_type": "markdown",
   "id": "db2253ff",
   "metadata": {},
   "source": [
    "## Download"
   ]
  },
  {
   "cell_type": "code",
   "execution_count": 12,
   "id": "77f20fe3",
   "metadata": {},
   "outputs": [
    {
     "data": {
      "text/plain": [
       "'../../../primary_data/abundance_maps.npz'"
      ]
     },
     "execution_count": 12,
     "metadata": {},
     "output_type": "execute_result"
    }
   ],
   "source": [
    "url_abundance_maps = \"https://drive.google.com/uc?export=download&id=1Wwkd5HeddZowBTMnsSfDGfX6Z0cB3LSu\"\n",
    "gdown.download(url_abundance_maps,'../../../primary_data/abundance_maps.npz',quiet='False')"
   ]
  },
  {
   "cell_type": "markdown",
   "id": "e3262a1c",
   "metadata": {},
   "source": [
    "## load data"
   ]
  },
  {
   "cell_type": "code",
   "execution_count": 13,
   "id": "b6298a01",
   "metadata": {},
   "outputs": [],
   "source": [
    "abundance_maps = np.load('../../../primary_data/abundance_maps.npz')['embeddings']\n",
    "cluster_labels = np.load('../../../primary_data/abundance_maps.npz')['cluster_labels']"
   ]
  },
  {
   "cell_type": "code",
   "execution_count": null,
   "id": "0a5f42d7",
   "metadata": {},
   "outputs": [],
   "source": []
  }
 ],
 "metadata": {
  "kernelspec": {
   "display_name": "edx",
   "language": "python",
   "name": "edx"
  },
  "language_info": {
   "codemirror_mode": {
    "name": "ipython",
    "version": 3
   },
   "file_extension": ".py",
   "mimetype": "text/x-python",
   "name": "python",
   "nbconvert_exporter": "python",
   "pygments_lexer": "ipython3",
   "version": "3.9.6"
  }
 },
 "nbformat": 4,
 "nbformat_minor": 5
}
