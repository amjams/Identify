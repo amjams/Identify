{
 "cells": [
  {
   "cell_type": "code",
   "execution_count": 4,
   "id": "7d7c3846",
   "metadata": {},
   "outputs": [],
   "source": [
    "# imports\n",
    "import os\n",
    "import sys\n",
    "sys.path.append(\"../\")\n",
    "import numpy as np\n",
    "import umap\n",
    "from functions_EDX import *\n",
    "import time\n",
    "import matplotlib.pyplot as plt\n",
    "from scipy.stats import zscore\n",
    "import hdbscan\n",
    "from datetime import datetime\n",
    "import seaborn as sns\n",
    "from matplotlib import cm\n",
    "from sklearn.preprocessing import MinMaxScaler\n",
    "from skimage.feature import peak_local_max\n",
    "from VCA import *\n",
    "import random\n",
    "import tifffile as tf\n",
    "import os"
   ]
  },
  {
   "cell_type": "markdown",
   "id": "dcb7937f",
   "metadata": {},
   "source": [
    "## Convenient things"
   ]
  },
  {
   "cell_type": "code",
   "execution_count": 5,
   "id": "d0cfb336",
   "metadata": {},
   "outputs": [],
   "source": [
    "res_xy = 1024"
   ]
  },
  {
   "cell_type": "markdown",
   "id": "47b70ec3",
   "metadata": {},
   "source": [
    "## Locate the processed tile folder"
   ]
  },
  {
   "cell_type": "code",
   "execution_count": 6,
   "id": "37e234c4",
   "metadata": {},
   "outputs": [],
   "source": [
    "spectrum_folder = '../../../primary_data/main_mosaic_6by5/Spectrum2D_PC10'\n",
    "file_names = []\n",
    "tmp = os.listdir(spectrum_folder)\n",
    "for filename in tmp:\n",
    "    if filename.endswith('.npz'):\n",
    "        file_names.append(filename)\n",
    "\n",
    "file_names = sorted(file_names)\n",
    "files = [os.path.join(spectrum_folder,file_name) for file_name in file_names]"
   ]
  },
  {
   "cell_type": "markdown",
   "id": "8be5df9b",
   "metadata": {},
   "source": [
    "## Parameters for varying the embeddings"
   ]
  },
  {
   "cell_type": "code",
   "execution_count": 9,
   "id": "df7e4bfc",
   "metadata": {},
   "outputs": [],
   "source": [
    "chosen_tiles = [0,5,10]\n",
    "chosen_metrics = ['chebyshev','euclidean','cosine']"
   ]
  },
  {
   "cell_type": "code",
   "execution_count": 16,
   "id": "4db4f0ee",
   "metadata": {},
   "outputs": [
    {
     "name": "stdout",
     "output_type": "stream",
     "text": [
      "Duration for UMAP fitting: 0:02:01.162803\n"
     ]
    },
    {
     "ename": "NameError",
     "evalue": "name 'peak_local_max' is not defined",
     "output_type": "error",
     "traceback": [
      "\u001b[0;31m---------------------------------------------------------------------------\u001b[0m",
      "\u001b[0;31mNameError\u001b[0m                                 Traceback (most recent call last)",
      "Cell \u001b[0;32mIn[16], line 40\u001b[0m\n\u001b[1;32m     37\u001b[0m ymin, ymax \u001b[38;5;241m=\u001b[39m np\u001b[38;5;241m.\u001b[39mamin(embeddings[:,dim_b]), np\u001b[38;5;241m.\u001b[39mamax(embeddings[:,dim_b])\n\u001b[1;32m     38\u001b[0m counts, xedges, yedges \u001b[38;5;241m=\u001b[39m np\u001b[38;5;241m.\u001b[39mhistogram2d(embeddings[:,dim_a], embeddings[:,dim_b], bins\u001b[38;5;241m=\u001b[39mGrid)\n\u001b[0;32m---> 40\u001b[0m local_maxi \u001b[38;5;241m=\u001b[39m \u001b[43mpeak_local_max\u001b[49m(counts, threshold_rel \u001b[38;5;241m=\u001b[39m threshold_rel, min_distance \u001b[38;5;241m=\u001b[39m min_distance, exclude_border \u001b[38;5;241m=\u001b[39m \u001b[38;5;28;01mFalse\u001b[39;00m)\n\u001b[1;32m     41\u001b[0m local_max_x \u001b[38;5;241m=\u001b[39m []\n\u001b[1;32m     42\u001b[0m local_max_y \u001b[38;5;241m=\u001b[39m []\n",
      "\u001b[0;31mNameError\u001b[0m: name 'peak_local_max' is not defined"
     ]
    }
   ],
   "source": [
    "for tile_idx in chosen_tiles:\n",
    "    for umetric in chosen_metrics:\n",
    "        spectrum_2D = np.load(files[tile_idx])['spectrum_2D']\n",
    "        \n",
    "        # get a subset\n",
    "        random.seed(100)\n",
    "        nTrain_umap = int(0.2*res_xy**2)\n",
    "        n_sample_train = np.random.choice(spectrum_2D.shape[0], nTrain_umap)\n",
    "        spectrum_2D_zscored = zscore(spectrum_2D)\n",
    "        \n",
    "        # Train umap and fit\n",
    "        start = datetime.now()\n",
    "        umap1 = umap.UMAP(n_components=2, n_neighbors=10, min_dist=0.0, metric=umetric,random_state=100)\n",
    "        embeddings = umap1.fit_transform(spectrum_2D_zscored[n_sample_train,:])\n",
    "\n",
    "        end = datetime.now()\n",
    "        \n",
    "        # if 3 dimensions for UMAP, which ones to use (0,1,or 2)\n",
    "        dim_a = 0\n",
    "        dim_b = 1\n",
    "\n",
    "        # scaling\n",
    "        scaler = MinMaxScaler()\n",
    "        embeddings = scaler.fit_transform(embeddings)\n",
    "        etime = end-start\n",
    "        print('Duration for UMAP fitting: {}'.format(end - start))\n",
    "        \n",
    "        \n",
    "        #global threshold_rel, min_distance\n",
    "        Grid = 256\n",
    "        threshold_rel = 0.35\n",
    "        min_distance = 20\n",
    "\n",
    "\n",
    "        #find local maxima in 2D histogram\n",
    "        xmin, xmax = np.amin(embeddings[:,dim_a]), np.amax(embeddings[:,dim_a])\n",
    "        ymin, ymax = np.amin(embeddings[:,dim_b]), np.amax(embeddings[:,dim_b])\n",
    "        counts, xedges, yedges = np.histogram2d(embeddings[:,dim_a], embeddings[:,dim_b], bins=Grid)\n",
    "\n",
    "        local_maxi = peak_local_max(counts, threshold_rel = threshold_rel, min_distance = min_distance, exclude_border = False)\n",
    "        local_max_x = []\n",
    "        local_max_y = []\n",
    "\n",
    "        for i in range(0,len(local_maxi)):\n",
    "            NewValue_X = (((local_maxi[i][0] ) * (xmax - xmin)) / (Grid - 0)) + xmin\n",
    "            NewValue_Y = (((local_maxi[i][1] - 0) * (ymax - ymin)) / (Grid - 0)) + ymin\n",
    "            local_max_x.append(NewValue_X)\n",
    "            local_max_y.append(NewValue_Y)\n",
    "\n",
    "        x = [x for x in zip(local_max_x,local_max_y)]\n",
    "        nEM = len(x)\n",
    "\n",
    "        print(nEM)\n",
    "\n",
    "        # set the color map according to the number of endmembers\n",
    "        cmap = plt.get_cmap('nipy_spectral')\n",
    "        cmap_idx = np.linspace(0, 0.9, nEM)\n",
    "        \n",
    "        \n",
    "        min_max = 5*(1/Grid)         #determines bounding box size\n",
    "        points = len(x)\n",
    "        centroid = []                #empty array for selected UMAP centroids\n",
    "        F = []                       #indicies of UMAP points\n",
    "\n",
    "        for i in range(0,points):\n",
    "            #set bounding square \n",
    "            Minx = x[i][0] - min_max\n",
    "            Maxx = x[i][0] + min_max\n",
    "            Miny = x[i][1] - min_max\n",
    "            Maxy = x[i][1] + min_max\n",
    "\n",
    "            #select points\n",
    "            z3 = [0 if j == 0 else j for j in [j if j <= Maxx else 0 for j in [j if j >= Minx else 0 for j in embeddings[:,dim_a]]]]\n",
    "            zz3 = [0 if j == 0 else j for j in [j if j <= Maxy else 0 for j in [j if j >= Miny else 0 for j in embeddings[:,dim_b]]]]\n",
    "            f = [i for i, e in enumerate([x*y for x,y in zip(z3,zz3)]) if e != 0]\n",
    "            d = embeddings[f]\n",
    "            F.append(f)\n",
    "            centroid.append(d)\n",
    "\n",
    "        fig, ax = plt.subplots(figsize=(10,10))\n",
    "        sns.despine(left=True, bottom=True, right=True)\n",
    "        \n",
    "        \n",
    "        # Color Scatter with sampled pixels\n",
    "        ax.scatter(embeddings[:,dim_a],embeddings[:,dim_b],c='k',s=0.01, alpha=0.1)\n",
    "        ax.set_ylim([ymin, ymax])\n",
    "        ax.set_xlim([xmin, xmax])\n",
    "        ax.axes.get_xaxis().set_visible(False)\n",
    "        ax.axes.get_yaxis().set_visible(False)\n",
    "        ax.set_aspect('equal')\n",
    "\n",
    "        # Plot pixels used to select endmembers\n",
    "        for i in range(0,len(x)):\n",
    "            ax.scatter(centroid[i].transpose()[0], centroid[i].transpose()[1], color=list(cmap(cmap_idx[i])), s=0.1, alpha = 0.2)\n",
    "\n",
    "        f.tight_layout() \n",
    "        plt.axis('off')\n",
    "        plt.savefig('../png/figure_3Embeddings_Tile%02d_%s.png' % (tile_idx,umetric),dpi=300)\n",
    "        plt.show()\n",
    "        "
   ]
  },
  {
   "cell_type": "code",
   "execution_count": null,
   "id": "5f434869",
   "metadata": {},
   "outputs": [],
   "source": []
  }
 ],
 "metadata": {
  "kernelspec": {
   "display_name": "edx",
   "language": "python",
   "name": "edx"
  },
  "language_info": {
   "codemirror_mode": {
    "name": "ipython",
    "version": 3
   },
   "file_extension": ".py",
   "mimetype": "text/x-python",
   "name": "python",
   "nbconvert_exporter": "python",
   "pygments_lexer": "ipython3",
   "version": "3.9.6"
  }
 },
 "nbformat": 4,
 "nbformat_minor": 5
}
