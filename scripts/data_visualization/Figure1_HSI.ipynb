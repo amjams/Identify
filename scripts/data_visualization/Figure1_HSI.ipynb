{
 "cells": [
  {
   "cell_type": "code",
   "execution_count": null,
   "id": "714d5455",
   "metadata": {},
   "outputs": [],
   "source": [
    "import numpy as np\n",
    "import matplotlib.pyplot as plt\n",
    "from mpl_toolkits.mplot3d import Axes3D\n",
    "import os\n",
    "import gc"
   ]
  },
  {
   "cell_type": "code",
   "execution_count": null,
   "id": "8830821a",
   "metadata": {},
   "outputs": [],
   "source": [
    "# Load the data\n",
    "spectrum_2D_dir = '../../../primary_data/main_mosaic_6by5/'\n",
    "spectrum_2D_list = sorted(os.listdir(spectrum_2D_dir))\n",
    "# Select tiles\n",
    "indices = [0,1,8]\n",
    "# Select colormap\n",
    "cmap = plt.get_cmap('nipy_spectral')\n",
    "size = [1024, 1024, 250]\n"
   ]
  },
  {
   "cell_type": "code",
   "execution_count": null,
   "id": "f97c5e5d",
   "metadata": {},
   "outputs": [],
   "source": [
    "def MinMax(arr):\n",
    "    arr = (arr - np.min(arr)) / (np.max(arr) - np.min(arr))\n",
    "    return arr\n",
    "\n",
    "cmap_idx = np.linspace(0.1, 0.9, size[2])\n",
    "\n",
    "sel_files = []\n",
    "for i in range(len(indices)):\n",
    "    sel_files.append(spectrum_2D_list[indices[i]])"
   ]
  },
  {
   "cell_type": "code",
   "execution_count": null,
   "id": "64fbe669",
   "metadata": {},
   "outputs": [],
   "source": [
    "for idx, file in enumerate(sel_files):\n",
    "    d = np.load(spectrum_2D_dir + file)['spectrum_2D'].reshape((size[0],size[1],size[2]))\n",
    "    for z in range(d.shape[2]):\n",
    "        d[:,:,z] = MinMax(d[:,:,z])\n",
    "    d = d.astype('float32')\n",
    "    d = d.reshape((size[0]*size[1], size[2]))\n",
    "    \n",
    "    r = np.zeros((size[0] * size[1], size[2]))\n",
    "    g = np.zeros((size[0] * size[1], size[2]))\n",
    "    b = np.zeros((size[0] * size[1], size[2]))\n",
    "    a = np.zeros((size[0] * size[1], size[2]))\n",
    "\n",
    "    for z in range(d.shape[1]):\n",
    "        r[:,z] = cmap(cmap_idx[z])[0]\n",
    "        g[:,z] = cmap(cmap_idx[z])[1]\n",
    "        b[:,z] = cmap(cmap_idx[z])[2]\n",
    "        a[:,z] = d[:,z]\n",
    "        \n",
    "    rgb_arr = np.zeros((size[0] * size[1], size[2], 4)).astype('float32')\n",
    "    rgb_arr[:,:,0] = r\n",
    "    rgb_arr[:,:,1] = g\n",
    "    rgb_arr[:,:,2] = b\n",
    "    rgb_arr[:,:,3] = a\n",
    "    \n",
    "    rgb_arr = rgb_arr.reshape((size[0], size[1], size[2], 4))\n",
    "    d = d.reshape((size[0], size[1], size[2]))\n",
    "    \n",
    "    d = d.transpose((1,0,2))\n",
    "    d = np.flip(d, axis = 1)\n",
    "    rgb_arr = rgb_arr.transpose((1,0,2,3))\n",
    "    rgb_arr = np.flip(rgb_arr, axis = 1)\n",
    "    \n",
    "    f = plt.figure(figsize = (10,10), dpi = 300, layout =  'tight')\n",
    "    ax = plt.axes(projection = '3d')\n",
    "    ax.voxels(d, facecolors = rgb_arr)\n",
    "    ax.view_init(15,15, vertical_axis ='y')\n",
    "    ax.invert_zaxis()\n",
    "    plt.axis('off')\n",
    "    plt.savefig('../png/3D_Plot_Tile_' + '%02d' %(indices[idx]) + '.png')\n",
    "    plt.show()\n",
    "    gc.collect()"
   ]
  }
 ],
 "metadata": {
  "kernelspec": {
   "display_name": "Python 3 (ipykernel)",
   "language": "python",
   "name": "python3"
  },
  "language_info": {
   "codemirror_mode": {
    "name": "ipython",
    "version": 3
   },
   "file_extension": ".py",
   "mimetype": "text/x-python",
   "name": "python",
   "nbconvert_exporter": "python",
   "pygments_lexer": "ipython3",
   "version": "3.9.13"
  }
 },
 "nbformat": 4,
 "nbformat_minor": 5
}
