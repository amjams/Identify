{
 "cells": [
  {
   "cell_type": "code",
   "execution_count": 3,
   "id": "2d045223",
   "metadata": {},
   "outputs": [],
   "source": [
    "# imports\n",
    "import os\n",
    "import sys\n",
    "sys.path.append(\"../../\")\n",
    "import numpy as np\n",
    "import umap\n",
    "from functions_EDX import *\n",
    "import time\n",
    "import matplotlib.pyplot as plt\n",
    "from scipy.optimize import nnls \n",
    "from scipy.stats import zscore\n",
    "from datetime import datetime\n",
    "import seaborn as sns\n",
    "from skimage.feature import peak_local_max\n",
    "from matplotlib import cm\n",
    "import cv2\n",
    "from sklearn.preprocessing import MinMaxScaler\n",
    "import random\n",
    "import tifffile as tf\n",
    "from pysptools.material_count.vd import HfcVd\n",
    "from PIL import Image\n",
    "import matplotlib as mpl"
   ]
  },
  {
   "cell_type": "markdown",
   "id": "d3685d7f",
   "metadata": {},
   "source": [
    "### MPL settings"
   ]
  },
  {
   "cell_type": "code",
   "execution_count": 4,
   "id": "f8487e1d",
   "metadata": {},
   "outputs": [],
   "source": [
    "mpl.rcParams['pdf.fonttype'] = 42\n",
    "mpl.rcParams['ps.fonttype'] = 42\n",
    "mpl.rcParams['font.family'] = 'Helvetica'\n",
    "\n",
    "# this one makes the ticks into text in the exported svgs\n",
    "plt.rcParams['svg.fonttype'] = 'none'\n",
    "\n",
    "plt.rcParams['xtick.labelsize'] = 7\n",
    "plt.rcParams['ytick.labelsize'] = 7"
   ]
  },
  {
   "cell_type": "markdown",
   "id": "ebc751ae",
   "metadata": {},
   "source": [
    "## Convenient things"
   ]
  },
  {
   "cell_type": "code",
   "execution_count": 5,
   "id": "d571c6fc",
   "metadata": {},
   "outputs": [],
   "source": [
    "res_xy = 1024\n",
    "xray_energies_dir = '../../../secondary_data/xray_energies.npz'\n",
    "xray_energies = np.load(xray_energies_dir)['xray_energies']"
   ]
  },
  {
   "cell_type": "markdown",
   "id": "2753b5a7",
   "metadata": {},
   "source": [
    "## Choose a tile and load preprocessed data"
   ]
  },
  {
   "cell_type": "code",
   "execution_count": 6,
   "id": "04902f19",
   "metadata": {},
   "outputs": [],
   "source": [
    "tile_idx = 0\n",
    "\n",
    "spectrum_folder = '../../../../primary_data/qdot_mosaic/Spectrum2D/pca10/'\n",
    "file_names = []\n",
    "tmp = os.listdir(spectrum_folder)\n",
    "for filename in tmp:\n",
    "    if filename.endswith('.npz'):\n",
    "        file_names.append(filename)\n",
    "\n",
    "file_names = sorted(file_names)\n",
    "files = [os.path.join(spectrum_folder,file_name) for file_name in file_names]\n",
    "\n",
    "spectrum_2D = np.load(files[tile_idx])['spectrum_2D']"
   ]
  },
  {
   "cell_type": "markdown",
   "id": "6f2c5769",
   "metadata": {},
   "source": [
    "### Estimated number of endmembers"
   ]
  },
  {
   "cell_type": "code",
   "execution_count": 7,
   "id": "3f966599",
   "metadata": {},
   "outputs": [
    {
     "name": "stdout",
     "output_type": "stream",
     "text": [
      "[11, 11, 11]\n"
     ]
    }
   ],
   "source": [
    "nEM_est = HfcVd(spectrum_2D)\n",
    "print(nEM_est)"
   ]
  },
  {
   "cell_type": "markdown",
   "id": "cd94f911",
   "metadata": {},
   "source": [
    "## Embed with UMAP"
   ]
  },
  {
   "cell_type": "markdown",
   "id": "e93ed32a",
   "metadata": {},
   "source": [
    "### Subsample"
   ]
  },
  {
   "cell_type": "code",
   "execution_count": null,
   "id": "4afc3063",
   "metadata": {},
   "outputs": [],
   "source": [
    "nTrain_umap = int(0.1*res_xy**2)\n",
    "np.random.rand(100); n_sample_train = np.random.choice(spectrum_2D.shape[0], nTrain_umap)\n",
    "spectrum_2D_zscored = zscore(spectrum_2D)"
   ]
  },
  {
   "cell_type": "code",
   "execution_count": null,
   "id": "c262f346",
   "metadata": {},
   "outputs": [],
   "source": [
    "# Apply UMAP directly\n",
    "start = datetime.now()\n",
    "umap1 = umap.UMAP(n_components=2, n_neighbors=10, min_dist=0.0, metric='chebyshev',random_state=100)\n",
    "embeddings = umap1.fit_transform(spectrum_2D_zscored[n_sample_train,:])\n",
    "\n",
    "end = datetime.now()\n",
    "# if 3 dimensions for UMAP, which ones to use (0,1,or 2)\n",
    "dim_a = 0\n",
    "dim_b = 1\n",
    "\n",
    "# scaling\n",
    "scaler = MinMaxScaler()\n",
    "embeddings = scaler.fit_transform(embeddings)\n",
    "\n",
    "etime = end-start\n",
    "print('Duration for UMAP fitting: {}'.format(end - start))"
   ]
  },
  {
   "cell_type": "markdown",
   "id": "13b91117",
   "metadata": {},
   "source": [
    "## Inspect embedding shape"
   ]
  },
  {
   "cell_type": "code",
   "execution_count": null,
   "id": "f3a940c7",
   "metadata": {},
   "outputs": [],
   "source": [
    "%matplotlib inline \n",
    "f, ax = plt.subplots(figsize=(15,15))\n",
    "sns.despine(left=True, bottom=True, right=True)\n",
    "ax.set_facecolor((1, 1, 1)) #set gray background if desired\n",
    "ax.scatter(embeddings[:,dim_a],embeddings[:,dim_b], s=0.001,c='k') \n",
    "f.tight_layout() \n",
    "plt.axis('off')\n",
    "plt.show()"
   ]
  },
  {
   "cell_type": "markdown",
   "id": "6fcc7ca4",
   "metadata": {},
   "source": [
    "## Identify number of endmembers using peak finding"
   ]
  },
  {
   "cell_type": "markdown",
   "id": "5c821524",
   "metadata": {},
   "source": [
    "#### Set parameters directly"
   ]
  },
  {
   "cell_type": "code",
   "execution_count": null,
   "id": "a1ba53fa",
   "metadata": {},
   "outputs": [],
   "source": [
    "#global threshold_rel, min_distance\n",
    "Grid = 256\n",
    "threshold_rel = 0.30\n",
    "min_distance = 25\n",
    "\n",
    "#find local maxima in 2D histogram\n",
    "xmin, xmax = np.amin(embeddings[:,dim_a]), np.amax(embeddings[:,dim_a])\n",
    "ymin, ymax = np.amin(embeddings[:,dim_b]), np.amax(embeddings[:,dim_b])\n",
    "counts, xedges, yedges = np.histogram2d(embeddings[:,dim_a], embeddings[:,dim_b], bins=Grid)\n",
    "\n",
    "local_maxi = peak_local_max(counts, threshold_rel = threshold_rel, min_distance = min_distance, exclude_border = False)\n",
    "local_max_x = []\n",
    "local_max_y = []\n",
    "\n",
    "for i in range(0,len(local_maxi)):\n",
    "    NewValue_X = (((local_maxi[i][0] ) * (xmax - xmin)) / (Grid - 0)) + xmin\n",
    "    NewValue_Y = (((local_maxi[i][1] - 0) * (ymax - ymin)) / (Grid - 0)) + ymin\n",
    "    local_max_x.append(NewValue_X)\n",
    "    local_max_y.append(NewValue_Y)\n",
    "\n",
    "x = [x for x in zip(local_max_x,local_max_y)]\n",
    "nEM = len(x)\n",
    "\n",
    "print(nEM)\n",
    "    \n"
   ]
  },
  {
   "cell_type": "markdown",
   "id": "5f7a9e57",
   "metadata": {},
   "source": [
    "#### Loop to find parameters based on desired nEM"
   ]
  },
  {
   "cell_type": "code",
   "execution_count": null,
   "id": "4de44024",
   "metadata": {},
   "outputs": [],
   "source": [
    "#global threshold_rel, min_distance\n",
    "Grid = 256\n",
    "threshold_rel = None\n",
    "min_distance = 2     \n",
    "desired_nEM = 6\n",
    "\n",
    "nEM = 1000\n",
    "\n",
    "while abs(desired_nEM-nEM)>=1:\n",
    "\n",
    "    #find local maxima in 2D histogram\n",
    "    xmin, xmax = np.amin(embeddings[:,dim_a]), np.amax(embeddings[:,dim_a])\n",
    "    ymin, ymax = np.amin(embeddings[:,dim_b]), np.amax(embeddings[:,dim_b])\n",
    "    counts, xedges, yedges = np.histogram2d(embeddings[:,dim_a], embeddings[:,dim_b], bins=Grid)\n",
    "\n",
    "    local_maxi = peak_local_max(counts, threshold_rel = threshold_rel, min_distance = min_distance, exclude_border = False)\n",
    "    local_max_x = []\n",
    "    local_max_y = []\n",
    "\n",
    "    for i in range(0,len(local_maxi)):\n",
    "        NewValue_X = (((local_maxi[i][0] ) * (xmax - xmin)) / (Grid - 0)) + xmin\n",
    "        NewValue_Y = (((local_maxi[i][1] - 0) * (ymax - ymin)) / (Grid - 0)) + ymin\n",
    "        local_max_x.append(NewValue_X)\n",
    "        local_max_y.append(NewValue_Y)\n",
    "\n",
    "    x = [x for x in zip(local_max_x,local_max_y)]\n",
    "    nEM = len(x)\n",
    "    print(min_distance,threshold_rel,nEM)\n",
    "    min_distance+=1\n",
    "\n",
    "    "
   ]
  },
  {
   "cell_type": "markdown",
   "id": "4b0eae7f",
   "metadata": {},
   "source": [
    "## Visualize and compute the endmembers"
   ]
  },
  {
   "cell_type": "code",
   "execution_count": null,
   "id": "0213760b",
   "metadata": {},
   "outputs": [],
   "source": [
    "# Plot regions selected from the 2D histogram\n",
    "min_max = 2.5*(1/Grid)         #determines bounding box size\n",
    "points = len(x)\n",
    "centroid = []                #empty array for selected UMAP centroids\n",
    "F = []                       #indicies of UMAP points\n",
    "\n",
    "# colors\n",
    "cmap = plt.get_cmap('nipy_spectral')\n",
    "cmap_idx = np.linspace(0, 0.9, nEM)\n",
    "\n",
    "for i in range(0,points):\n",
    "    #set bounding square \n",
    "    Minx = x[i][0] - min_max\n",
    "    Maxx = x[i][0] + min_max\n",
    "    Miny = x[i][1] - min_max\n",
    "    Maxy = x[i][1] + min_max\n",
    "    \n",
    "    #select points\n",
    "    z3 = [0 if j == 0 else j for j in [j if j <= Maxx else 0 for j in [j if j >= Minx else 0 for j in embeddings[:,dim_a]]]]\n",
    "    zz3 = [0 if j == 0 else j for j in [j if j <= Maxy else 0 for j in [j if j >= Miny else 0 for j in embeddings[:,dim_b]]]]\n",
    "    f = [i for i, e in enumerate([x*y for x,y in zip(z3,zz3)]) if e != 0]\n",
    "    d = embeddings[f]\n",
    "    F.append(f)\n",
    "    centroid.append(d)\n",
    "    \n"
   ]
  },
  {
   "cell_type": "code",
   "execution_count": null,
   "id": "f61b439c",
   "metadata": {},
   "outputs": [],
   "source": [
    "%matplotlib inline \n",
    "fig, ax = plt.subplots(figsize=(15,15))\n",
    "sns.despine(left=True, bottom=True, right=True)\n",
    "\n",
    "# colors\n",
    "cmap = plt.get_cmap('nipy_spectral')\n",
    "cmap_idx = np.linspace(0, 0.9, nEM)\n",
    "\n",
    "# Color Scatter with sampled pixels\n",
    "ax.scatter(embeddings[:,dim_a],embeddings[:,dim_b],c='k',s=1, alpha=0.1)\n",
    "ax.set_ylim([ymin, ymax])\n",
    "ax.set_xlim([xmin, xmax])\n",
    "ax.axes.get_xaxis().set_visible(False)\n",
    "ax.axes.get_yaxis().set_visible(False)\n",
    "ax.set_aspect('equal')\n",
    "\n",
    "# Plot pixels used to select endmembers\n",
    "for i in range(0,len(x)):\n",
    "    ax.scatter(centroid[i].transpose()[0], centroid[i].transpose()[1], color=list(cmap(cmap_idx[i])), s=1.5, alpha = 1)\n",
    "\n",
    "# Endmembers annotation\n",
    "label = [val for val in list(range(len(x)))]\n",
    "#label = ['X' for val in list(range(len(x)))] \n",
    "centroids = np.array(x).transpose()\n",
    "    \n",
    "for i, txt in enumerate(label):\n",
    "    ax.annotate(txt, (centroids[0][i]+0.02, centroids[1][i]), color= list(cmap(cmap_idx[i])), size=35)  \n",
    "\n",
    "fig.tight_layout()\n",
    "#plt.savefig('../png/figure_2Embeddings_new.png',dpi=300)\n",
    "plt.show()"
   ]
  },
  {
   "cell_type": "markdown",
   "id": "bb295d1f",
   "metadata": {},
   "source": [
    "## Compute the endmembers"
   ]
  },
  {
   "cell_type": "code",
   "execution_count": null,
   "id": "3cec0076",
   "metadata": {},
   "outputs": [],
   "source": [
    "endmember_spectra = []\n",
    "for i in range(0, len(x)):\n",
    "    jj = np.mean(spectrum_2D[n_sample_train][F[i]], axis = 0)\n",
    "    endmember_spectra.append(jj)\n",
    "endmember_spectra = np.array(endmember_spectra).transpose()"
   ]
  },
  {
   "cell_type": "markdown",
   "id": "276c650a",
   "metadata": {},
   "source": [
    "## Plot the endmember spectra"
   ]
  },
  {
   "cell_type": "code",
   "execution_count": null,
   "id": "62509df2",
   "metadata": {},
   "outputs": [],
   "source": [
    "%matplotlib inline\n",
    "# offset, plot and save all endmember spectra\n",
    "endmember_spectra_offset = np.copy(endmember_spectra)\n",
    "endmember_spectra_offset = (endmember_spectra_offset - np.min(endmember_spectra_offset))/(np.max(endmember_spectra_offset) - np.min(endmember_spectra_offset))\n",
    "\n",
    "seperation_interval = 1/endmember_spectra_offset.shape[1]\n",
    "for i in range(endmember_spectra_offset.shape[1]):\n",
    "    endmember_spectra_offset[:,i] += (i*seperation_interval)\n",
    "\n",
    "    \n",
    "cmap = plt.get_cmap('nipy_spectral')\n",
    "cmap_idx = np.linspace(0, 0.9, endmember_spectra_offset.shape[1])\n",
    "\n",
    "f, ax = plt.subplots()\n",
    "for i in range(endmember_spectra_offset.shape[1]):\n",
    "    ax.plot(xray_energies, \n",
    "            endmember_spectra_offset[:,i], \n",
    "            color = list(cmap(cmap_idx[i])), \n",
    "            linewidth = 1)\n",
    "\n",
    "ax.set_yticks([])\n",
    "ax.set_ylabel('Counts')\n",
    "ax.set_xlabel('Energy (keV)')\n",
    "ax.spines[['top', 'right']].set_visible(False)\n",
    "ax.set_xlim(0,20)\n",
    "plt.savefig('../png/figure_2Spectra_new.svg')"
   ]
  },
  {
   "cell_type": "markdown",
   "id": "da81cffb",
   "metadata": {},
   "source": [
    "## Unmixing with nnls"
   ]
  },
  {
   "cell_type": "code",
   "execution_count": null,
   "id": "8c4b13c2",
   "metadata": {},
   "outputs": [],
   "source": [
    "start = datetime.now()\n",
    "abundance_maps = np.array([nnls(endmember_spectra,i)[0] for i in spectrum_2D]).transpose()\n",
    "end = datetime.now()\n",
    "print('Duration: {}'.format(end - start))"
   ]
  },
  {
   "cell_type": "markdown",
   "id": "0bacd34e",
   "metadata": {},
   "source": [
    "## Visualize abundance maps"
   ]
  },
  {
   "cell_type": "code",
   "execution_count": null,
   "id": "258f0237",
   "metadata": {
    "scrolled": false
   },
   "outputs": [],
   "source": [
    "%matplotlib inline \n",
    "abundance_maps = np.reshape(abundance_maps,(np.shape(abundance_maps)[0],res_xy,res_xy))\n",
    "abundance_maps = nnls_maxcf(abundance_maps)\n",
    "cmap = 'gray_r'\n",
    "\n",
    "for ends in range(np.shape(abundance_maps)[0]):\n",
    "    fig, ax = plt.subplots(figsize=(7,7))    \n",
    "    ax.imshow(abundance_maps[ends], interpolation='nearest',cmap=cmap, vmin = 0)\n",
    "    ax.set_title('UMAP endmember ' + str(ends))\n",
    "    ax.axes.get_xaxis().set_visible(False)\n",
    "    ax.axes.get_yaxis().set_visible(False)\n",
    "    #tf.imwrite(\"../../secondary_data/Figure2_abundancemaps/%02d.tiff\" % ends, (abundance_maps[ends]*255).astype('uint8'))\n",
    "    im = Image.fromarray(255-(abundance_maps[ends]*255).astype('uint8'))\n",
    "    im.save(\"../../secondary_data/Figure2_abundancemaps/%02d.png\" % ends)\n",
    "    plt.show()\n",
    "\n"
   ]
  },
  {
   "cell_type": "code",
   "execution_count": null,
   "id": "1e4fd344",
   "metadata": {},
   "outputs": [],
   "source": []
  }
 ],
 "metadata": {
  "kernelspec": {
   "display_name": "edx",
   "language": "python",
   "name": "edx"
  },
  "language_info": {
   "codemirror_mode": {
    "name": "ipython",
    "version": 3
   },
   "file_extension": ".py",
   "mimetype": "text/x-python",
   "name": "python",
   "nbconvert_exporter": "python",
   "pygments_lexer": "ipython3",
   "version": "3.9.6"
  }
 },
 "nbformat": 4,
 "nbformat_minor": 5
}
