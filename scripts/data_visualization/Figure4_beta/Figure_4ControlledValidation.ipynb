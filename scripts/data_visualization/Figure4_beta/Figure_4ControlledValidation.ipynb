{
 "cells": [
  {
   "cell_type": "code",
   "execution_count": 1,
   "id": "129b896c",
   "metadata": {},
   "outputs": [],
   "source": [
    "# imports\n",
    "import os\n",
    "import sys\n",
    "sys.path.append(\"../\")\n",
    "import numpy as np\n",
    "import umap\n",
    "from functions_EDX import *\n",
    "import time\n",
    "from ipywidgets import interactive\n",
    "import matplotlib.pyplot as plt\n",
    "from scipy.optimize import nnls \n",
    "from scipy.stats import zscore\n",
    "from datetime import datetime\n",
    "import seaborn as sns\n",
    "from skimage.feature import peak_local_max\n",
    "from matplotlib import cm\n",
    "import cv2\n",
    "from sklearn.preprocessing import MinMaxScaler\n",
    "from VCA import *\n",
    "import random\n",
    "import tifffile as tf\n",
    "from scipy import signal\n",
    "from pysptools.material_count.vd import HfcVd"
   ]
  },
  {
   "cell_type": "code",
   "execution_count": 4,
   "id": "5615ccda",
   "metadata": {},
   "outputs": [],
   "source": [
    "spectrum_folder_qdot = '../../../primary_data/qdot_mosaic/Spectrum2D/pca10'\n",
    "spectrum_folder_normal = '../../../primary_data/main_mosaic_6by5/Spectrum2D_PC10'\n",
    "\n",
    "file_names = []\n",
    "tmp = os.listdir(spectrum_folder_normal)\n",
    "for filename in tmp:\n",
    "    if filename.endswith('.npz'):\n",
    "        file_names.append(filename)\n",
    "\n",
    "file_names = sorted(file_names)\n",
    "files_normal = [os.path.join(spectrum_folder_normal,file_name) for file_name in file_names]\n",
    "\n",
    "\n",
    "file_names = []\n",
    "tmp = os.listdir(spectrum_folder_qdot)\n",
    "for filename in tmp:\n",
    "    if filename.endswith('.npz'):\n",
    "        file_names.append(filename)\n",
    "\n",
    "file_names = sorted(file_names)\n",
    "files_qdot = [os.path.join(spectrum_folder_qdot,file_name) for file_name in file_names]\n",
    "\n"
   ]
  },
  {
   "cell_type": "code",
   "execution_count": null,
   "id": "47aba74d",
   "metadata": {},
   "outputs": [],
   "source": [
    "tile_idx_normal = 1 \n",
    "tile_idx_qot = 4\n",
    "\n",
    "spectrum_2D1 = np.load(os.) \n",
    "spectrum_2D2 = "
   ]
  }
 ],
 "metadata": {
  "kernelspec": {
   "display_name": "edx",
   "language": "python",
   "name": "edx"
  },
  "language_info": {
   "codemirror_mode": {
    "name": "ipython",
    "version": 3
   },
   "file_extension": ".py",
   "mimetype": "text/x-python",
   "name": "python",
   "nbconvert_exporter": "python",
   "pygments_lexer": "ipython3",
   "version": "3.9.6"
  }
 },
 "nbformat": 4,
 "nbformat_minor": 5
}
