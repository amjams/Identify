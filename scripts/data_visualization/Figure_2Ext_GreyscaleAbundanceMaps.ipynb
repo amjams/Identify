{
 "cells": [
  {
   "cell_type": "code",
   "execution_count": 1,
   "id": "98205d3a",
   "metadata": {},
   "outputs": [],
   "source": [
    "import numpy as np\n",
    "import matplotlib.pyplot as plt\n",
    "import hyperspy.api as hs\n",
    "import tifffile as tf\n",
    "import os\n",
    "import gdown\n",
    "from PIL import Image"
   ]
  },
  {
   "cell_type": "markdown",
   "id": "099e45f7",
   "metadata": {},
   "source": [
    "## Download data"
   ]
  },
  {
   "cell_type": "code",
   "execution_count": 2,
   "id": "ac961b94",
   "metadata": {},
   "outputs": [
    {
     "data": {
      "text/plain": [
       "'../../../primary_data/abundance_maps.npz'"
      ]
     },
     "execution_count": 2,
     "metadata": {},
     "output_type": "execute_result"
    }
   ],
   "source": [
    "url_abundance_maps = \"https://drive.google.com/uc?export=download&id=1Wwkd5HeddZowBTMnsSfDGfX6Z0cB3LSu\"\n",
    "gdown.download(url_abundance_maps,'../../../primary_data/abundance_maps.npz',quiet='False')"
   ]
  },
  {
   "cell_type": "markdown",
   "id": "7561b91c",
   "metadata": {},
   "source": [
    "## Load data"
   ]
  },
  {
   "cell_type": "code",
   "execution_count": 3,
   "id": "a4fa891c",
   "metadata": {},
   "outputs": [
    {
     "name": "stdout",
     "output_type": "stream",
     "text": [
      "(11, 1024, 1024, 30)\n"
     ]
    }
   ],
   "source": [
    "abundance_maps = (np.load('../../../primary_data/abundance_maps.npz')['arr_0'])/255\n",
    "print(abundance_maps.shape)"
   ]
  },
  {
   "cell_type": "code",
   "execution_count": 6,
   "id": "5c061358",
   "metadata": {
    "scrolled": true
   },
   "outputs": [],
   "source": [
    "# export tiffs as individual tiles\n",
    "export_dir = \"../../secondary_data/main_mosaic_5by6_greyscale_tiffs/abundance_map_\"\n",
    "\n",
    "for i in range(abundance_maps.shape[0]):\n",
    "    for t in range(abundance_maps.shape[3]):\n",
    "        image = (abundance_maps[i,:,:,t]*255).astype('uint8')\n",
    "        tf.imwrite(export_dir + str(i) + \"/\" + 'Tile_' + '%02d' %(t) + '.tiff', image)"
   ]
  }
 ],
 "metadata": {
  "kernelspec": {
   "display_name": "Python 3 (ipykernel)",
   "language": "python",
   "name": "python3"
  },
  "language_info": {
   "codemirror_mode": {
    "name": "ipython",
    "version": 3
   },
   "file_extension": ".py",
   "mimetype": "text/x-python",
   "name": "python",
   "nbconvert_exporter": "python",
   "pygments_lexer": "ipython3",
   "version": "3.9.13"
  }
 },
 "nbformat": 4,
 "nbformat_minor": 5
}
