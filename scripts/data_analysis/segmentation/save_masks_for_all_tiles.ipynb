{
 "cells": [
  {
   "cell_type": "code",
   "execution_count": 12,
   "id": "2a294d81",
   "metadata": {},
   "outputs": [
    {
     "name": "stdout",
     "output_type": "stream",
     "text": [
      "PyTorch version: 2.0.1\n",
      "Torchvision version: 0.15.2\n",
      "CUDA is available: False\n"
     ]
    }
   ],
   "source": [
    "import torch\n",
    "import torchvision\n",
    "import numpy as np\n",
    "import matplotlib.pyplot as plt\n",
    "import cv2\n",
    "import tifffile as tf\n",
    "from segment_anything import sam_model_registry, SamAutomaticMaskGenerator, SamPredictor\n",
    "import pickle\n",
    "from datetime import datetime\n",
    "\n",
    "print(\"PyTorch version:\", torch.__version__)\n",
    "print(\"Torchvision version:\", torchvision.__version__)\n",
    "print(\"CUDA is available:\", torch.cuda.is_available())"
   ]
  },
  {
   "cell_type": "markdown",
   "id": "baa000aa",
   "metadata": {},
   "source": [
    "### Load haadf staack and SAM model and set options"
   ]
  },
  {
   "cell_type": "code",
   "execution_count": 9,
   "id": "a4d39198",
   "metadata": {},
   "outputs": [],
   "source": [
    "# haadf\n",
    "haadf_stack = tf.imread(\"../primary_data/main_mosaic_5by6_haadf.tiff\")  \n",
    "\n",
    "\n",
    "# output path (for the masks)\n",
    "masks_path = '../primary_data/main_mosaic_6by5/SAM_masks/'\n",
    "\n",
    "# SAM\n",
    "sam_checkpoint = \"../primary_data/sam_vit_h_4b8939.pth\"\n",
    "model_type = \"vit_h\"\n",
    "#device = \"cuda\"\n",
    "#device = 'mps' if torch.backends.mps.is_available() else 'cpu'\n",
    "device = 'cpu'\n",
    "sam = sam_model_registry[model_type](checkpoint=sam_checkpoint)\n",
    "sam.to(device=device)\n",
    "\n",
    "# mask generator settings\n",
    "mask_generator = SamAutomaticMaskGenerator(\n",
    "    model=sam,\n",
    "    points_per_side=32,\n",
    "    pred_iou_thresh=0.90,\n",
    "    stability_score_thresh=0.92,\n",
    "    crop_n_layers=1,\n",
    "    crop_n_points_downscale_factor=2,\n",
    "    min_mask_region_area=100, \n",
    ")"
   ]
  },
  {
   "cell_type": "markdown",
   "id": "0a9507b7",
   "metadata": {},
   "source": [
    "### Apply on all tiles and pickle output"
   ]
  },
  {
   "cell_type": "code",
   "execution_count": 14,
   "id": "5f602f71",
   "metadata": {},
   "outputs": [
    {
     "name": "stdout",
     "output_type": "stream",
     "text": [
      "Tile 00 finished\n",
      "Duration: 0:01:25.697111\n",
      "Tile 01 finished\n",
      "Duration: 0:01:24.812631\n",
      "Tile 02 finished\n",
      "Duration: 0:01:24.716746\n",
      "Tile 03 finished\n",
      "Duration: 0:01:29.615876\n",
      "Tile 04 finished\n",
      "Duration: 0:01:31.529718\n",
      "Tile 05 finished\n",
      "Duration: 0:01:26.351385\n",
      "Tile 06 finished\n",
      "Duration: 0:01:29.897456\n",
      "Tile 07 finished\n",
      "Duration: 0:01:25.864093\n",
      "Tile 08 finished\n",
      "Duration: 0:01:26.164802\n",
      "Tile 09 finished\n",
      "Duration: 0:01:25.718374\n",
      "Tile 10 finished\n",
      "Duration: 0:01:25.845931\n",
      "Tile 11 finished\n",
      "Duration: 0:01:26.228617\n",
      "Tile 12 finished\n",
      "Duration: 0:01:23.562317\n",
      "Tile 13 finished\n",
      "Duration: 0:01:25.292390\n",
      "Tile 14 finished\n",
      "Duration: 0:01:25.424349\n",
      "Tile 15 finished\n",
      "Duration: 0:01:23.753136\n",
      "Tile 16 finished\n",
      "Duration: 0:01:22.847387\n",
      "Tile 17 finished\n",
      "Duration: 0:01:25.036089\n",
      "Tile 18 finished\n",
      "Duration: 0:01:24.441797\n",
      "Tile 19 finished\n",
      "Duration: 0:01:23.560661\n",
      "Tile 20 finished\n",
      "Duration: 0:01:22.775369\n",
      "Tile 21 finished\n",
      "Duration: 0:01:23.639276\n",
      "Tile 22 finished\n",
      "Duration: 0:01:23.320366\n",
      "Tile 23 finished\n",
      "Duration: 0:01:23.839435\n",
      "Tile 24 finished\n",
      "Duration: 0:01:23.068479\n",
      "Tile 25 finished\n",
      "Duration: 0:01:23.123259\n",
      "Tile 26 finished\n",
      "Duration: 0:01:23.533146\n",
      "Tile 27 finished\n",
      "Duration: 0:01:25.568428\n",
      "Tile 28 finished\n",
      "Duration: 0:01:23.009593\n",
      "Tile 29 finished\n",
      "Duration: 0:01:21.839829\n"
     ]
    }
   ],
   "source": [
    "for tile_idx in range(haadf_stack.shape[0]):\n",
    "    start = datetime.now()\n",
    "    image = haadf_stack[tile_idx,:,:]\n",
    "    image = cv2.cvtColor(image, cv2.COLOR_GRAY2RGB)\n",
    "    masks = mask_generator.generate(image)\n",
    "    output = open(os.path.join(masks_path,'tile_%02d.pkl' % tile_idx), 'wb')\n",
    "    pickle.dump(masks, output)\n",
    "    end = datetime.now()\n",
    "    print('Tile %02d finished' % tile_idx)\n",
    "    print('Duration: {}'.format(end - start))"
   ]
  }
 ],
 "metadata": {
  "kernelspec": {
   "display_name": "edx",
   "language": "python",
   "name": "edx"
  },
  "language_info": {
   "codemirror_mode": {
    "name": "ipython",
    "version": 3
   },
   "file_extension": ".py",
   "mimetype": "text/x-python",
   "name": "python",
   "nbconvert_exporter": "python",
   "pygments_lexer": "ipython3",
   "version": "3.9.6"
  }
 },
 "nbformat": 4,
 "nbformat_minor": 5
}
