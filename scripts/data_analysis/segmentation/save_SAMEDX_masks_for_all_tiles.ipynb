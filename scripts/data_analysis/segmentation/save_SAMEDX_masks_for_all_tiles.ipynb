{
 "cells": [
  {
   "cell_type": "code",
   "execution_count": null,
   "id": "0760a130",
   "metadata": {},
   "outputs": [],
   "source": [
    "import numpy as np\n",
    "import matplotlib.pyplot as plt\n",
    "import cv2\n",
    "import tifffile as tf\n",
    "import pickle\n",
    "from datetime import datetime\n",
    "import os\n",
    "from skimage.color import label2rgb\n",
    "import sys\n",
    "sys.path.append(\"../../\")\n",
    "from functions_EDX import *\n",
    "from PIL import Image"
   ]
  },
  {
   "cell_type": "markdown",
   "id": "d5c98b85",
   "metadata": {},
   "source": [
    "### EDX colors of interest"
   ]
  },
  {
   "cell_type": "code",
   "execution_count": null,
   "id": "c6da545b",
   "metadata": {},
   "outputs": [],
   "source": [
    "indices = [3,4,6,1,9,7]\n",
    "colors = [[1,0,0], [0,1,0], [0,0,1], [0,1,1], [1,0,1], [1,1,0]]"
   ]
  },
  {
   "cell_type": "markdown",
   "id": "b66824f2",
   "metadata": {},
   "source": [
    "### load the stack of haadfs, SAM masks, abundance maps"
   ]
  },
  {
   "cell_type": "code",
   "execution_count": null,
   "id": "4e3bc5b4",
   "metadata": {},
   "outputs": [],
   "source": [
    "# haadf stack\n",
    "haadf_stack = tf.imread(\"../../../../primary_data/main_mosaic_5by6_haadf.tiff\")  \n",
    "\n",
    "# location of SAM masks\n",
    "masks_path = '../../../../primary_data/main_mosaic_6by5/SAM_masks/'\n",
    "\n",
    "# abundance maps\n",
    "abundance_maps = np.load(\"../../../../primary_data/abundance_maps.npz\")['arr_0']\n",
    "print('abundance maps shape',abundance_maps.shape)"
   ]
  },
  {
   "cell_type": "markdown",
   "id": "3e82ca13",
   "metadata": {},
   "source": [
    "### Output path for the tiffs and options"
   ]
  },
  {
   "cell_type": "code",
   "execution_count": null,
   "id": "e6753e40",
   "metadata": {},
   "outputs": [],
   "source": [
    "area_thresh = 500000\n",
    "overlay_haadf = True\n",
    "alpha = 0.35\n",
    "#out_dir = '../../../../primary_data/main_mosaic_6by5/SAM_EDX_masks_tiff/'\n",
    "out_dir = '../../../../primary_data/main_mosaic_6by5/SAM_EDX_masks_png/'"
   ]
  },
  {
   "cell_type": "code",
   "execution_count": null,
   "id": "734a6f86",
   "metadata": {},
   "outputs": [],
   "source": [
    "%matplotlib inline\n",
    "sub_dir = 'haadf_%s_alpha_%02d_maxarea_%07d' % (str(overlay_haadf),int(alpha*100),area_thresh)\n",
    "try:\n",
    "    os.mkdir(os.path.join(out_dir,sub_dir))\n",
    "    outpath = os.path.join(out_dir,sub_dir)\n",
    "except:\n",
    "    print('These options already exist.')\n",
    "    sys.exit(1)\n",
    "        \n",
    "for tile_idx in range(abundance_maps.shape[3]):\n",
    "    haadf = haadf_stack[tile_idx,:,:] \n",
    "    abundance_tile = abundance_maps[indices,:,:,tile_idx]\n",
    "    \n",
    "    # masks\n",
    "    # Get the masks\n",
    "    file = open(os.path.join(masks_path,'tile_%02d.pkl' % tile_idx),'rb')\n",
    "    masks = pickle.load(file)\n",
    "    \n",
    "    if overlay_haadf:\n",
    "        SamEDXImg,img_clr_idx = show_anns_EDX(masks,abundance_tile,colors=colors,display=False,alpha = alpha,area_thresh=area_thresh)\n",
    "        Img = label2rgb(img_clr_idx, image=255-haadf,colors=colors,kind='overlay',alpha = alpha,bg_label=-1)\n",
    "        \n",
    "        #tf.imwrite(os.path.join(outpath,'tile_%02d.tiff' % tile_idx),Img)\n",
    "    else:\n",
    "        Img = show_anns_EDX(masks,abundance_tile,colors=colors,display=False,alpha = alpha,area_thresh=area_thresh)\n",
    "        #tf.imwrite(os.path.join(outpath,'tile_%02d.tiff' % tile_idx),(Img*255).astype('uint8'))\n",
    "    \n",
    "    f,ax = plt.subplots(figsize=(20,20))\n",
    "    plt.subplots_adjust(top = 1, bottom = 0, right = 1, left = 0, hspace = 0, wspace = 0)\n",
    "    ax.imshow(haadf,cmap='gray')\n",
    "    ax.imshow(SamEDXImg)\n",
    "    plt.margins(0,0)\n",
    "    plt.axis('off')\n",
    "    plt.savefig(os.path.join(outpath,'tile_%02d.png' % tile_idx),dpi=300) #,bbox_inches='tight')\n",
    "    plt.close(f)\n",
    "    "
   ]
  },
  {
   "cell_type": "markdown",
   "id": "e74e036f",
   "metadata": {},
   "source": [
    "### Save SAM masks only"
   ]
  },
  {
   "cell_type": "code",
   "execution_count": null,
   "id": "3250e4b5",
   "metadata": {},
   "outputs": [],
   "source": [
    "alpha = 0.35\n",
    "area_thresh = 500000\n",
    "#out_dir = '../../../../primary_data/main_mosaic_6by5/SAM_EDX_masks_tiff/'\n",
    "out_dir = '../../../../primary_data/main_mosaic_6by5/SAM_EDX_masks_png/'"
   ]
  },
  {
   "cell_type": "code",
   "execution_count": null,
   "id": "0c12e60b",
   "metadata": {},
   "outputs": [],
   "source": [
    "%matplotlib inline\n",
    "sub_dir = 'SAM_output_%02d' % int(alpha*100)\n",
    "try:\n",
    "    os.mkdir(os.path.join(out_dir,sub_dir))\n",
    "    outpath = os.path.join(out_dir,sub_dir)\n",
    "except:\n",
    "    print('These options already exist.')\n",
    "    sys.exit(1)\n",
    "        \n",
    "for tile_idx in range(abundance_maps.shape[3]):\n",
    "    haadf = haadf_stack[tile_idx,:,:] \n",
    "    abundance_tile = abundance_maps[indices,:,:,tile_idx]\n",
    "    \n",
    "    # masks\n",
    "    # Get the masks\n",
    "    file = open(os.path.join(masks_path,'tile_%02d.pkl' % tile_idx),'rb')\n",
    "    masks = pickle.load(file)\n",
    "    \n",
    "    Img = show_anns(masks,display=False,randomColors=True,alpha = alpha,area_thresh=area_thresh)\n",
    "    #tf.imwrite(os.path.join(outpath,'tile_%02d.tiff' % tile_idx),(Img*255).astype('uint8'))\n",
    "    \n",
    "    f,ax = plt.subplots(figsize=(20,20))\n",
    "    plt.subplots_adjust(top = 1, bottom = 0, right = 1, left = 0, hspace = 0, wspace = 0)\n",
    "    ax.imshow(haadf,cmap='gray')\n",
    "    ax.imshow(Img)\n",
    "    plt.margins(0,0)\n",
    "    plt.axis('off')\n",
    "    plt.savefig(os.path.join(outpath,'tile_%02d.png' % tile_idx),dpi=300) #,bbox_inches='tight')\n",
    "    plt.close(f)"
   ]
  },
  {
   "cell_type": "code",
   "execution_count": null,
   "id": "b1fe8f1a",
   "metadata": {},
   "outputs": [],
   "source": []
  }
 ],
 "metadata": {
  "kernelspec": {
   "display_name": "edx",
   "language": "python",
   "name": "edx"
  },
  "language_info": {
   "codemirror_mode": {
    "name": "ipython",
    "version": 3
   },
   "file_extension": ".py",
   "mimetype": "text/x-python",
   "name": "python",
   "nbconvert_exporter": "python",
   "pygments_lexer": "ipython3",
   "version": "3.9.6"
  }
 },
 "nbformat": 4,
 "nbformat_minor": 5
}
