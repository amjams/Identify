{
 "cells": [
  {
   "cell_type": "code",
   "execution_count": 1,
   "id": "0760a130",
   "metadata": {},
   "outputs": [],
   "source": [
    "import numpy as np\n",
    "import matplotlib.pyplot as plt\n",
    "import cv2\n",
    "import tifffile as tf\n",
    "import pickle\n",
    "from datetime import datetime\n",
    "import os\n",
    "from skimage.color import label2rgb\n",
    "import sys\n",
    "sys.path.append(\"../../\")\n",
    "from functions_EDX import *"
   ]
  },
  {
   "cell_type": "markdown",
   "id": "d5c98b85",
   "metadata": {},
   "source": [
    "### EDX colors of interest"
   ]
  },
  {
   "cell_type": "code",
   "execution_count": 2,
   "id": "c6da545b",
   "metadata": {},
   "outputs": [],
   "source": [
    "indices = [3,4,6,1,9,7]\n",
    "colors = [[1,0,0], [0,1,0], [0,0,1], [0,1,1], [1,0,1], [1,1,0]]"
   ]
  },
  {
   "cell_type": "markdown",
   "id": "b66824f2",
   "metadata": {},
   "source": [
    "### load the stack of haadfs, SAM masks, abundance maps"
   ]
  },
  {
   "cell_type": "code",
   "execution_count": 3,
   "id": "4e3bc5b4",
   "metadata": {},
   "outputs": [
    {
     "name": "stdout",
     "output_type": "stream",
     "text": [
      "abundance maps shape (11, 1024, 1024, 30)\n"
     ]
    }
   ],
   "source": [
    "# haadf stack\n",
    "haadf_stack = tf.imread(\"../../../../primary_data/main_mosaic_5by6_haadf.tiff\")  \n",
    "\n",
    "# location of SAM masks\n",
    "masks_path = '../../../../primary_data/main_mosaic_6by5/SAM_masks/'\n",
    "\n",
    "# abundance maps\n",
    "abundance_maps = np.load(\"../../../../primary_data/abundance_maps.npz\")['arr_0']\n",
    "print('abundance maps shape',abundance_maps.shape)"
   ]
  },
  {
   "cell_type": "markdown",
   "id": "3e82ca13",
   "metadata": {},
   "source": [
    "### Output path for the tiffs and options"
   ]
  },
  {
   "cell_type": "code",
   "execution_count": 4,
   "id": "e6753e40",
   "metadata": {},
   "outputs": [],
   "source": [
    "area_thresh = 500000\n",
    "overlay_haadf = True\n",
    "alpha = 0.35\n",
    "out_dir = '../../../../primary_data/main_mosaic_6by5/SAM_EDX_masks_tiff/'"
   ]
  },
  {
   "cell_type": "code",
   "execution_count": 5,
   "id": "734a6f86",
   "metadata": {},
   "outputs": [
    {
     "name": "stdout",
     "output_type": "stream",
     "text": [
      "0\n",
      "1\n",
      "2\n",
      "3\n",
      "4\n",
      "5\n"
     ]
    },
    {
     "ename": "KeyboardInterrupt",
     "evalue": "",
     "output_type": "error",
     "traceback": [
      "\u001b[0;31m---------------------------------------------------------------------------\u001b[0m",
      "\u001b[0;31mKeyboardInterrupt\u001b[0m                         Traceback (most recent call last)",
      "Cell \u001b[0;32mIn[5], line 19\u001b[0m\n\u001b[1;32m     16\u001b[0m masks \u001b[38;5;241m=\u001b[39m pickle\u001b[38;5;241m.\u001b[39mload(file)\n\u001b[1;32m     18\u001b[0m \u001b[38;5;28;01mif\u001b[39;00m overlay_haadf:\n\u001b[0;32m---> 19\u001b[0m     SamEDXImg,img_clr_idx \u001b[38;5;241m=\u001b[39m \u001b[43mshow_anns_EDX\u001b[49m\u001b[43m(\u001b[49m\u001b[43mmasks\u001b[49m\u001b[43m,\u001b[49m\u001b[43mabundance_tile\u001b[49m\u001b[43m,\u001b[49m\u001b[43mcolors\u001b[49m\u001b[38;5;241;43m=\u001b[39;49m\u001b[43mcolors\u001b[49m\u001b[43m,\u001b[49m\u001b[43mdisplay\u001b[49m\u001b[38;5;241;43m=\u001b[39;49m\u001b[38;5;28;43;01mFalse\u001b[39;49;00m\u001b[43m,\u001b[49m\u001b[43malpha\u001b[49m\u001b[43m \u001b[49m\u001b[38;5;241;43m=\u001b[39;49m\u001b[43m \u001b[49m\u001b[43malpha\u001b[49m\u001b[43m,\u001b[49m\u001b[43marea_thresh\u001b[49m\u001b[38;5;241;43m=\u001b[39;49m\u001b[43marea_thresh\u001b[49m\u001b[43m)\u001b[49m\n\u001b[1;32m     20\u001b[0m     \u001b[38;5;66;03m#SamEDXImg = cv2.addWeighted(cv2.cvtColor(haadf,cv2.COLOR_GRAY2RGBA), 1-alpha,(SamEDXImg[:,:,:]*255).astype('uint8'), alpha, 0)\u001b[39;00m\n\u001b[1;32m     21\u001b[0m     Img \u001b[38;5;241m=\u001b[39m label2rgb(img_clr_idx, image\u001b[38;5;241m=\u001b[39mhaadf,colors\u001b[38;5;241m=\u001b[39mcolors,kind\u001b[38;5;241m=\u001b[39m\u001b[38;5;124m'\u001b[39m\u001b[38;5;124moverlay\u001b[39m\u001b[38;5;124m'\u001b[39m,alpha \u001b[38;5;241m=\u001b[39m alpha)\n",
      "File \u001b[0;32m~/Desktop/work/PostDoc_UMCG/work/analysis/EDX_Project/Identify/scripts/data_analysis/segmentation/../../functions_EDX.py:255\u001b[0m, in \u001b[0;36mshow_anns_EDX\u001b[0;34m(anns, abundance_tile, colors, display, alpha, area_thresh)\u001b[0m\n\u001b[1;32m    253\u001b[0m         color_idx \u001b[38;5;241m=\u001b[39m np\u001b[38;5;241m.\u001b[39margmax(temp_sum)\n\u001b[1;32m    254\u001b[0m         color_mask \u001b[38;5;241m=\u001b[39m np\u001b[38;5;241m.\u001b[39mconcatenate([colors[color_idx], [alpha]])\n\u001b[0;32m--> 255\u001b[0m         \u001b[43mimg\u001b[49m\u001b[43m[\u001b[49m\u001b[43mm\u001b[49m\u001b[43m]\u001b[49m \u001b[38;5;241m=\u001b[39m color_mask\n\u001b[1;32m    256\u001b[0m         img_clr_idx[m] \u001b[38;5;241m=\u001b[39m color_idx\n\u001b[1;32m    257\u001b[0m \u001b[38;5;28;01mif\u001b[39;00m display:\n",
      "\u001b[0;31mKeyboardInterrupt\u001b[0m: "
     ]
    }
   ],
   "source": [
    "sub_dir = 'haadf_%s_alpha_%02d_maxarea_%07d' % (str(overlay_haadf),int(alpha*100),area_thresh)\n",
    "try:\n",
    "    os.mkdir(os.path.join(out_dir,sub_dir))\n",
    "    outpath = os.path.join(out_dir,sub_dir)\n",
    "except:\n",
    "    print('These options already exist.')\n",
    "    sys.exit(1)\n",
    "        \n",
    "for tile_idx in range(abundance_maps.shape[3]):\n",
    "    haadf = haadf_stack[tile_idx,:,:] \n",
    "    abundance_tile = abundance_maps[indices,:,:,tile_idx]\n",
    "    \n",
    "    # masks\n",
    "    # Get the masks\n",
    "    file = open(os.path.join(masks_path,'tile_%02d.pkl' % tile_idx),'rb')\n",
    "    masks = pickle.load(file)\n",
    "    \n",
    "    if overlay_haadf:\n",
    "        SamEDXImg,img_clr_idx = show_anns_EDX(masks,abundance_tile,colors=colors,display=False,alpha = alpha,area_thresh=area_thresh)\n",
    "        #SamEDXImg = cv2.addWeighted(cv2.cvtColor(haadf,cv2.COLOR_GRAY2RGBA), 1-alpha,(SamEDXImg[:,:,:]*255).astype('uint8'), alpha, 0)\n",
    "        Img = label2rgb(img_clr_idx, image=haadf,colors=colors,kind='overlay',alpha = alpha,bg_label=-1)\n",
    "        tf.imwrite(os.path.join(outpath,'tile_%02d.tiff' % tile_idx),Img)\n",
    "    else:\n",
    "        SamEDXImg = show_anns_EDX(masks,abundance_tile,colors=colors,display=False,alpha = alpha,area_thresh=area_thresh)\n",
    "        tf.imwrite(os.path.join(outpath,'tile_%02d.tiff' % tile_idx),(SamEDXImg[:,:,:]*255).astype('uint8'))\n",
    "    \n",
    "    \n",
    "    print(tile_idx)"
   ]
  },
  {
   "cell_type": "code",
   "execution_count": 6,
   "id": "4fab04b6",
   "metadata": {},
   "outputs": [
    {
     "data": {
      "text/plain": [
       "array([0., 1., 2., 3., 4., 5.])"
      ]
     },
     "execution_count": 6,
     "metadata": {},
     "output_type": "execute_result"
    }
   ],
   "source": [
    "np.unique(img_clr_idx)"
   ]
  },
  {
   "cell_type": "code",
   "execution_count": null,
   "id": "878348c1",
   "metadata": {},
   "outputs": [],
   "source": []
  }
 ],
 "metadata": {
  "kernelspec": {
   "display_name": "edx",
   "language": "python",
   "name": "edx"
  },
  "language_info": {
   "codemirror_mode": {
    "name": "ipython",
    "version": 3
   },
   "file_extension": ".py",
   "mimetype": "text/x-python",
   "name": "python",
   "nbconvert_exporter": "python",
   "pygments_lexer": "ipython3",
   "version": "3.9.6"
  }
 },
 "nbformat": 4,
 "nbformat_minor": 5
}
