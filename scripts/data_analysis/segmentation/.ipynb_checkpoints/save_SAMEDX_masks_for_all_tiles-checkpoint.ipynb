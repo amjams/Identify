{
 "cells": [
  {
   "cell_type": "code",
   "execution_count": 1,
   "id": "0760a130",
   "metadata": {},
   "outputs": [],
   "source": [
    "import numpy as np\n",
    "import matplotlib.pyplot as plt\n",
    "import cv2\n",
    "import tifffile as tf\n",
    "import pickle\n",
    "from datetime import datetime\n",
    "import os\n",
    "from skimage.color import label2rgb\n",
    "import sys\n",
    "sys.path.append(\"../../\")\n",
    "from functions_EDX import *\n",
    "from PIL import Image"
   ]
  },
  {
   "cell_type": "markdown",
   "id": "d5c98b85",
   "metadata": {},
   "source": [
    "### EDX colors of interest"
   ]
  },
  {
   "cell_type": "code",
   "execution_count": 2,
   "id": "c6da545b",
   "metadata": {},
   "outputs": [],
   "source": [
    "indices = [3,4,6,1,9,7]\n",
    "colors = [[1,0,0], [0,1,0], [0,0,1], [0,1,1], [1,0,1], [1,1,0]]"
   ]
  },
  {
   "cell_type": "markdown",
   "id": "21258615",
   "metadata": {},
   "source": [
    "### Functions"
   ]
  },
  {
   "cell_type": "code",
   "execution_count": 26,
   "id": "eb355497",
   "metadata": {},
   "outputs": [],
   "source": [
    "def show_anns(anns,display=False,area_thresh=1024**2):\n",
    "    if len(anns) == 0:\n",
    "        return\n",
    "    sorted_anns = sorted(anns, key=(lambda x: x['area']), reverse=True)\n",
    "    #ax = plt.gca()\n",
    "    #ax.set_autoscale_on(False)\n",
    "\n",
    "    img = np.ones((sorted_anns[0]['segmentation'].shape[0], sorted_anns[0]['segmentation'].shape[1], 4))\n",
    "    img[:,:,3] = 0\n",
    "    for ann in sorted_anns:\n",
    "        if ann['area'] < area_thresh:\n",
    "            m = ann['segmentation']\n",
    "            color_mask = np.concatenate([np.random.random(3), [0.35]])\n",
    "            #color_mask = np.asarray([1,0,0,0.35])\n",
    "            img[m] = color_mask\n",
    "    \n",
    "    if display:\n",
    "        ax.imshow(img)\n",
    "    else:\n",
    "        return img\n",
    "    \n",
    "    \n",
    "def show_anns_EDX(anns,abundance_tile,colors,display=False,alpha=0.35,area_thresh=1024**2):\n",
    "    if len(anns) == 0:\n",
    "        return\n",
    "    sorted_anns = sorted(anns, key=(lambda x: x['area']), reverse=True)\n",
    "    #ax = plt.gca()\n",
    "    #ax.set_autoscale_on(False)\n",
    "\n",
    "    img = np.ones((sorted_anns[0]['segmentation'].shape[0], sorted_anns[0]['segmentation'].shape[1], 4))\n",
    "    img[:,:,3] = 0\n",
    "    \n",
    "    img_clr_idx = np.ones((sorted_anns[0]['segmentation'].shape[0], sorted_anns[0]['segmentation'].shape[1]))\n",
    "    \n",
    "    for ann in sorted_anns:\n",
    "        if ann['area'] < area_thresh:\n",
    "            m = ann['segmentation']\n",
    "\n",
    "            tmp_img = np.zeros((sorted_anns[0]['segmentation'].shape[0], sorted_anns[0]['segmentation'].shape[1]))\n",
    "            tmp_img[m] = 1\n",
    "            tmp_abundance_masked = tmp_img*abundance_tile\n",
    "            temp_sum = np.sum(np.sum(tmp_abundance_masked,axis=1),axis=1)\n",
    "            color_idx = np.argmax(temp_sum)\n",
    "            img_clr_idx[m] = color_idx\n",
    "            color_mask = np.concatenate([colors[color_idx], [alpha]])\n",
    "            img[m] = color_mask\n",
    "    \n",
    "    if display:\n",
    "        ax.imshow(img)\n",
    "    else:\n",
    "        return img,img_clr_idx"
   ]
  },
  {
   "cell_type": "markdown",
   "id": "b66824f2",
   "metadata": {},
   "source": [
    "### load the stack of haadfs, SAM masks, abundance maps"
   ]
  },
  {
   "cell_type": "code",
   "execution_count": 3,
   "id": "4e3bc5b4",
   "metadata": {},
   "outputs": [
    {
     "name": "stdout",
     "output_type": "stream",
     "text": [
      "abundance maps shape (11, 1024, 1024, 30)\n"
     ]
    }
   ],
   "source": [
    "# haadf stack\n",
    "haadf_stack = tf.imread(\"../../../../primary_data/main_mosaic_5by6_haadf.tiff\")  \n",
    "\n",
    "# location of SAM masks\n",
    "masks_path = '../../../../primary_data/main_mosaic_6by5/SAM_masks/'\n",
    "\n",
    "# abundance maps\n",
    "abundance_maps = np.load(\"../../../../primary_data/abundance_maps.npz\")['arr_0']\n",
    "print('abundance maps shape',abundance_maps.shape)"
   ]
  },
  {
   "cell_type": "markdown",
   "id": "3e82ca13",
   "metadata": {},
   "source": [
    "### Output path for the tiffs and options"
   ]
  },
  {
   "cell_type": "code",
   "execution_count": 32,
   "id": "e6753e40",
   "metadata": {},
   "outputs": [],
   "source": [
    "area_thresh = 600000\n",
    "overlay_haadf = True\n",
    "alpha = 0.35\n",
    "#out_dir = '../../../../primary_data/main_mosaic_6by5/SAM_EDX_masks_tiff/'\n",
    "out_dir = '../../../../primary_data/main_mosaic_6by5/SAM_EDX_masks_png/'"
   ]
  },
  {
   "cell_type": "code",
   "execution_count": 33,
   "id": "734a6f86",
   "metadata": {},
   "outputs": [
    {
     "ename": "ValueError",
     "evalue": "`image` and `label` must be the same shape",
     "output_type": "error",
     "traceback": [
      "\u001b[0;31m---------------------------------------------------------------------------\u001b[0m",
      "\u001b[0;31mValueError\u001b[0m                                Traceback (most recent call last)",
      "Cell \u001b[0;32mIn[33], line 21\u001b[0m\n\u001b[1;32m     19\u001b[0m \u001b[38;5;28;01mif\u001b[39;00m overlay_haadf:\n\u001b[1;32m     20\u001b[0m     SamEDXImg,img_clr_idx \u001b[38;5;241m=\u001b[39m show_anns_EDX(masks,abundance_tile,colors\u001b[38;5;241m=\u001b[39mcolors,display\u001b[38;5;241m=\u001b[39m\u001b[38;5;28;01mFalse\u001b[39;00m,alpha \u001b[38;5;241m=\u001b[39m alpha,area_thresh\u001b[38;5;241m=\u001b[39marea_thresh)\n\u001b[0;32m---> 21\u001b[0m     Img \u001b[38;5;241m=\u001b[39m \u001b[43mlabel2rgb\u001b[49m\u001b[43m(\u001b[49m\u001b[43mimg_clr_idx\u001b[49m\u001b[43m,\u001b[49m\u001b[43m \u001b[49m\u001b[43mimage\u001b[49m\u001b[38;5;241;43m=\u001b[39;49m\u001b[38;5;241;43m255\u001b[39;49m\u001b[38;5;241;43m-\u001b[39;49m\u001b[43mhaadf\u001b[49m\u001b[43m,\u001b[49m\u001b[43mcolors\u001b[49m\u001b[38;5;241;43m=\u001b[39;49m\u001b[43mcolors\u001b[49m\u001b[43m,\u001b[49m\u001b[43mkind\u001b[49m\u001b[38;5;241;43m=\u001b[39;49m\u001b[38;5;124;43m'\u001b[39;49m\u001b[38;5;124;43moverlay\u001b[39;49m\u001b[38;5;124;43m'\u001b[39;49m\u001b[43m,\u001b[49m\u001b[43malpha\u001b[49m\u001b[43m \u001b[49m\u001b[38;5;241;43m=\u001b[39;49m\u001b[43m \u001b[49m\u001b[43malpha\u001b[49m\u001b[43m,\u001b[49m\u001b[43mbg_label\u001b[49m\u001b[38;5;241;43m=\u001b[39;49m\u001b[38;5;241;43m-\u001b[39;49m\u001b[38;5;241;43m1\u001b[39;49m\u001b[43m)\u001b[49m\n\u001b[1;32m     23\u001b[0m     \u001b[38;5;66;03m#tf.imwrite(os.path.join(outpath,'tile_%02d.tiff' % tile_idx),Img)\u001b[39;00m\n\u001b[1;32m     24\u001b[0m \u001b[38;5;28;01melse\u001b[39;00m:\n\u001b[1;32m     25\u001b[0m     Img \u001b[38;5;241m=\u001b[39m show_anns_EDX(masks,abundance_tile,colors\u001b[38;5;241m=\u001b[39mcolors,display\u001b[38;5;241m=\u001b[39m\u001b[38;5;28;01mFalse\u001b[39;00m,alpha \u001b[38;5;241m=\u001b[39m alpha,area_thresh\u001b[38;5;241m=\u001b[39marea_thresh)\n",
      "File \u001b[0;32m~/Desktop/work/virtualenvs/edx/lib/python3.9/site-packages/skimage/color/colorlabel.py:128\u001b[0m, in \u001b[0;36mlabel2rgb\u001b[0;34m(label, image, colors, alpha, bg_label, bg_color, image_alpha, kind, saturation, channel_axis)\u001b[0m\n\u001b[1;32m    126\u001b[0m     image \u001b[38;5;241m=\u001b[39m np\u001b[38;5;241m.\u001b[39mmoveaxis(image, source\u001b[38;5;241m=\u001b[39mchannel_axis, destination\u001b[38;5;241m=\u001b[39m\u001b[38;5;241m-\u001b[39m\u001b[38;5;241m1\u001b[39m)\n\u001b[1;32m    127\u001b[0m \u001b[38;5;28;01mif\u001b[39;00m kind \u001b[38;5;241m==\u001b[39m \u001b[38;5;124m'\u001b[39m\u001b[38;5;124moverlay\u001b[39m\u001b[38;5;124m'\u001b[39m:\n\u001b[0;32m--> 128\u001b[0m     rgb \u001b[38;5;241m=\u001b[39m \u001b[43m_label2rgb_overlay\u001b[49m\u001b[43m(\u001b[49m\u001b[43mlabel\u001b[49m\u001b[43m,\u001b[49m\u001b[43m \u001b[49m\u001b[43mimage\u001b[49m\u001b[43m,\u001b[49m\u001b[43m \u001b[49m\u001b[43mcolors\u001b[49m\u001b[43m,\u001b[49m\u001b[43m \u001b[49m\u001b[43malpha\u001b[49m\u001b[43m,\u001b[49m\u001b[43m \u001b[49m\u001b[43mbg_label\u001b[49m\u001b[43m,\u001b[49m\n\u001b[1;32m    129\u001b[0m \u001b[43m                             \u001b[49m\u001b[43mbg_color\u001b[49m\u001b[43m,\u001b[49m\u001b[43m \u001b[49m\u001b[43mimage_alpha\u001b[49m\u001b[43m,\u001b[49m\u001b[43m \u001b[49m\u001b[43msaturation\u001b[49m\u001b[43m)\u001b[49m\n\u001b[1;32m    130\u001b[0m \u001b[38;5;28;01melif\u001b[39;00m kind \u001b[38;5;241m==\u001b[39m \u001b[38;5;124m'\u001b[39m\u001b[38;5;124mavg\u001b[39m\u001b[38;5;124m'\u001b[39m:\n\u001b[1;32m    131\u001b[0m     rgb \u001b[38;5;241m=\u001b[39m _label2rgb_avg(label, image, bg_label, bg_color)\n",
      "File \u001b[0;32m~/Desktop/work/virtualenvs/edx/lib/python3.9/site-packages/skimage/color/colorlabel.py:188\u001b[0m, in \u001b[0;36m_label2rgb_overlay\u001b[0;34m(label, image, colors, alpha, bg_label, bg_color, image_alpha, saturation)\u001b[0m\n\u001b[1;32m    185\u001b[0m \u001b[38;5;28;01melse\u001b[39;00m:\n\u001b[1;32m    186\u001b[0m     \u001b[38;5;28;01mif\u001b[39;00m (image\u001b[38;5;241m.\u001b[39mshape[:label\u001b[38;5;241m.\u001b[39mndim] \u001b[38;5;241m!=\u001b[39m label\u001b[38;5;241m.\u001b[39mshape\n\u001b[1;32m    187\u001b[0m             \u001b[38;5;129;01mor\u001b[39;00m image\u001b[38;5;241m.\u001b[39mndim \u001b[38;5;241m>\u001b[39m label\u001b[38;5;241m.\u001b[39mndim \u001b[38;5;241m+\u001b[39m \u001b[38;5;241m1\u001b[39m):\n\u001b[0;32m--> 188\u001b[0m         \u001b[38;5;28;01mraise\u001b[39;00m \u001b[38;5;167;01mValueError\u001b[39;00m(\u001b[38;5;124m\"\u001b[39m\u001b[38;5;124m`image` and `label` must be the same shape\u001b[39m\u001b[38;5;124m\"\u001b[39m)\n\u001b[1;32m    190\u001b[0m     \u001b[38;5;28;01mif\u001b[39;00m image\u001b[38;5;241m.\u001b[39mndim \u001b[38;5;241m==\u001b[39m label\u001b[38;5;241m.\u001b[39mndim \u001b[38;5;241m+\u001b[39m \u001b[38;5;241m1\u001b[39m \u001b[38;5;129;01mand\u001b[39;00m image\u001b[38;5;241m.\u001b[39mshape[\u001b[38;5;241m-\u001b[39m\u001b[38;5;241m1\u001b[39m] \u001b[38;5;241m!=\u001b[39m \u001b[38;5;241m3\u001b[39m:\n\u001b[1;32m    191\u001b[0m         \u001b[38;5;28;01mraise\u001b[39;00m \u001b[38;5;167;01mValueError\u001b[39;00m(\n\u001b[1;32m    192\u001b[0m             \u001b[38;5;124m\"\u001b[39m\u001b[38;5;124m`image` must be RGB (image.shape[-1] must be 3).\u001b[39m\u001b[38;5;124m\"\u001b[39m\n\u001b[1;32m    193\u001b[0m         )\n",
      "\u001b[0;31mValueError\u001b[0m: `image` and `label` must be the same shape"
     ]
    }
   ],
   "source": [
    "%matplotlib inline\n",
    "sub_dir = 'haadf_%s_alpha_%02d_maxarea_%07d' % (str(overlay_haadf),int(alpha*100),area_thresh)\n",
    "try:\n",
    "    os.mkdir(os.path.join(out_dir,sub_dir))\n",
    "    outpath = os.path.join(out_dir,sub_dir)\n",
    "except:\n",
    "    print('These options already exist.')\n",
    "    sys.exit(1)\n",
    "        \n",
    "for tile_idx in range(abundance_maps.shape[3]):\n",
    "    haadf = haadf_stack[tile_idx,:,:] \n",
    "    abundance_tile = abundance_maps[indices,:,:,tile_idx]\n",
    "    \n",
    "    # masks\n",
    "    # Get the masks\n",
    "    file = open(os.path.join(masks_path,'tile_%02d.pkl' % tile_idx),'rb')\n",
    "    masks = pickle.load(file)\n",
    "    \n",
    "    if overlay_haadf:\n",
    "        SamEDXImg,img_clr_idx = show_anns_EDX(masks,abundance_tile,colors=colors,display=False,alpha = alpha,area_thresh=area_thresh)\n",
    "        Img = label2rgb(img_clr_idx, image=255-haadf,colors=colors,kind='overlay',alpha = alpha,bg_label=-1)\n",
    "        \n",
    "        #tf.imwrite(os.path.join(outpath,'tile_%02d.tiff' % tile_idx),Img)\n",
    "    else:\n",
    "        Img = show_anns_EDX(masks,abundance_tile,colors=colors,display=False,alpha = alpha,area_thresh=area_thresh)\n",
    "        #tf.imwrite(os.path.join(outpath,'tile_%02d.tiff' % tile_idx),(Img*255).astype('uint8'))\n",
    "    \n",
    "    f,ax = plt.subplots(figsize=(20,20))\n",
    "    plt.subplots_adjust(top = 1, bottom = 0, right = 1, left = 0, hspace = 0, wspace = 0)\n",
    "    ax.imshow(haadf,cmap='gray')\n",
    "    ax.imshow(Img)\n",
    "    plt.margins(0,0)\n",
    "    plt.axis('off')\n",
    "    plt.savefig(os.path.join(outpath,'tile_%02d.png' % tile_idx),dpi=300) #,bbox_inches='tight')\n",
    "    plt.close(f)\n",
    "    "
   ]
  },
  {
   "cell_type": "markdown",
   "id": "e74e036f",
   "metadata": {},
   "source": [
    "### Save SAM masks only"
   ]
  },
  {
   "cell_type": "code",
   "execution_count": null,
   "id": "3250e4b5",
   "metadata": {},
   "outputs": [],
   "source": [
    "alpha = 0.35\n",
    "area_thresh = 500000\n",
    "#out_dir = '../../../../primary_data/main_mosaic_6by5/SAM_EDX_masks_tiff/'\n",
    "out_dir = '../../../../primary_data/main_mosaic_6by5/SAM_EDX_masks_png/'"
   ]
  },
  {
   "cell_type": "code",
   "execution_count": null,
   "id": "0c12e60b",
   "metadata": {},
   "outputs": [],
   "source": [
    "%matplotlib inline\n",
    "sub_dir = 'SAM_output_%02d' % int(alpha*100)\n",
    "try:\n",
    "    os.mkdir(os.path.join(out_dir,sub_dir))\n",
    "    outpath = os.path.join(out_dir,sub_dir)\n",
    "except:\n",
    "    print('These options already exist.')\n",
    "    sys.exit(1)\n",
    "        \n",
    "for tile_idx in range(abundance_maps.shape[3]):\n",
    "    haadf = haadf_stack[tile_idx,:,:] \n",
    "    abundance_tile = abundance_maps[indices,:,:,tile_idx]\n",
    "    \n",
    "    # masks\n",
    "    # Get the masks\n",
    "    file = open(os.path.join(masks_path,'tile_%02d.pkl' % tile_idx),'rb')\n",
    "    masks = pickle.load(file)\n",
    "    \n",
    "    Img = show_anns(masks,display=False,randomColors=True,alpha = alpha,area_thresh=area_thresh)\n",
    "    #tf.imwrite(os.path.join(outpath,'tile_%02d.tiff' % tile_idx),(Img*255).astype('uint8'))\n",
    "    \n",
    "    f,ax = plt.subplots(figsize=(20,20))\n",
    "    plt.subplots_adjust(top = 1, bottom = 0, right = 1, left = 0, hspace = 0, wspace = 0)\n",
    "    ax.imshow(haadf,cmap='gray')\n",
    "    ax.imshow(Img)\n",
    "    plt.margins(0,0)\n",
    "    plt.axis('off')\n",
    "    plt.savefig(os.path.join(outpath,'tile_%02d.png' % tile_idx),dpi=300) #,bbox_inches='tight')\n",
    "    plt.close(f)"
   ]
  },
  {
   "cell_type": "code",
   "execution_count": null,
   "id": "b1fe8f1a",
   "metadata": {},
   "outputs": [],
   "source": []
  }
 ],
 "metadata": {
  "kernelspec": {
   "display_name": "edx",
   "language": "python",
   "name": "edx"
  },
  "language_info": {
   "codemirror_mode": {
    "name": "ipython",
    "version": 3
   },
   "file_extension": ".py",
   "mimetype": "text/x-python",
   "name": "python",
   "nbconvert_exporter": "python",
   "pygments_lexer": "ipython3",
   "version": "3.9.6"
  }
 },
 "nbformat": 4,
 "nbformat_minor": 5
}
