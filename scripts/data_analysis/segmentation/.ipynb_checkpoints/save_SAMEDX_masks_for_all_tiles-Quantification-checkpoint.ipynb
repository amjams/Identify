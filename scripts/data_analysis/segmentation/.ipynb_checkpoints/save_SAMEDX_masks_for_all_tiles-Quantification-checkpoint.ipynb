{
 "cells": [
  {
   "cell_type": "code",
   "execution_count": 1,
   "id": "0760a130",
   "metadata": {},
   "outputs": [],
   "source": [
    "import numpy as np\n",
    "import matplotlib.pyplot as plt\n",
    "import cv2\n",
    "import tifffile as tf\n",
    "import pickle\n",
    "from datetime import datetime\n",
    "import os\n",
    "from skimage.color import label2rgb\n",
    "import sys\n",
    "sys.path.append(\"../../\")\n",
    "from functions_EDX import *\n",
    "from PIL import Image"
   ]
  },
  {
   "cell_type": "markdown",
   "id": "d5c98b85",
   "metadata": {},
   "source": [
    "### EDX colors of interest"
   ]
  },
  {
   "cell_type": "code",
   "execution_count": 2,
   "id": "c6da545b",
   "metadata": {},
   "outputs": [],
   "source": [
    "indices = [3,4,6,1,9,7]\n",
    "colors = [[1,0,0], [0,1,0], [0,0,1], [0,1,1], [1,0,1], [1,1,0]]"
   ]
  },
  {
   "cell_type": "markdown",
   "id": "b66824f2",
   "metadata": {},
   "source": [
    "### load the stack of haadfs, SAM masks, abundance maps"
   ]
  },
  {
   "cell_type": "code",
   "execution_count": 3,
   "id": "4e3bc5b4",
   "metadata": {},
   "outputs": [
    {
     "name": "stdout",
     "output_type": "stream",
     "text": [
      "abundance maps shape (11, 1024, 1024, 30)\n"
     ]
    }
   ],
   "source": [
    "# haadf stack\n",
    "haadf_stack = tf.imread(\"../../../../primary_data/main_mosaic_5by6_haadf.tiff\")  \n",
    "\n",
    "# location of SAM masks\n",
    "masks_path = '../../../../primary_data/main_mosaic_6by5/SAM_masks/'\n",
    "\n",
    "# abundance maps\n",
    "abundance_maps = np.load(\"../../../../primary_data/abundance_maps.npz\")['arr_0']\n",
    "print('abundance maps shape',abundance_maps.shape)"
   ]
  },
  {
   "cell_type": "markdown",
   "id": "b44b1d57",
   "metadata": {},
   "source": [
    "### Functions"
   ]
  },
  {
   "cell_type": "code",
   "execution_count": 8,
   "id": "e6e1ff87",
   "metadata": {},
   "outputs": [],
   "source": [
    "def show_anns_EDX_quant(anns,abundance_tile,colors,display=False,alpha=0.35,area_thresh=[0,1024**2],min_purity=0,tile_idx=None):\n",
    "    if len(anns) == 0:\n",
    "        return\n",
    "    sorted_anns = sorted(anns, key=(lambda x: x['area']), reverse=True)\n",
    "    #ax = plt.gca()\n",
    "    #ax.set_autoscale_on(False)\n",
    "\n",
    "    img = np.ones((sorted_anns[0]['segmentation'].shape[0], sorted_anns[0]['segmentation'].shape[1], 4))\n",
    "    img[:,:,3] = 0\n",
    "    \n",
    "    img_clr_idx = np.ones((sorted_anns[0]['segmentation'].shape[0], sorted_anns[0]['segmentation'].shape[1]))*-1\n",
    "    \n",
    "    # groups \n",
    "    group0 = [0]\n",
    "    group1 = [1,2,3,4]\n",
    "    group2 = [5,10,15,20,25]\n",
    "    groupx = group0+group1+group2\n",
    "    group3 = [i for i in range(30) if i not in groupx]\n",
    "\n",
    "    \n",
    "    org_cnt = np.zeros(len(colors))\n",
    "    for ann in sorted_anns:\n",
    "        if ann['area'] < area_thresh[1] and ann['area'] > area_thresh[0]:\n",
    "            m = ann['segmentation']\n",
    "            \n",
    "            if tile_idx in group0:\n",
    "                limx = 0; limy=0\n",
    "            elif tile_idx in group1:\n",
    "                limx = 0; limy=103\n",
    "            elif tile_idx in group2:\n",
    "                limx = 103; limy=0\n",
    "            elif tile_idx in group3:\n",
    "                limx = 103; limy=103\n",
    "                \n",
    "            if np.min(np.where(m)[0])>limx and np.min(np.where(m)[1])>limy:\n",
    "                tmp_img = np.zeros((sorted_anns[0]['segmentation'].shape[0], sorted_anns[0]['segmentation'].shape[1]))\n",
    "                tmp_img[m] = 1\n",
    "                tmp_abundance_masked = tmp_img*abundance_tile\n",
    "                temp_sum = np.sum(np.sum(tmp_abundance_masked,axis=1),axis=1)\n",
    "                color_idx = np.argmax(temp_sum)\n",
    "                \n",
    "                if (np.max(temp_sum)/ann['area']/255)>=min_purity:\n",
    "                    org_cnt[color_idx] = org_cnt[color_idx] + 1   \n",
    "                    img_clr_idx[m] = color_idx\n",
    "                    color_mask = np.concatenate([colors[color_idx], [alpha]])\n",
    "                    img[m] = color_mask\n",
    "    \n",
    "    if display:\n",
    "        ax.imshow(img)\n",
    "    else:\n",
    "        return img,img_clr_idx,org_cnt"
   ]
  },
  {
   "cell_type": "markdown",
   "id": "3e82ca13",
   "metadata": {},
   "source": [
    "### Output path for the tiffs and options"
   ]
  },
  {
   "cell_type": "code",
   "execution_count": 15,
   "id": "2729d61d",
   "metadata": {},
   "outputs": [],
   "source": [
    "area_thresh = 10000\n",
    "overlay_haadf = True\n",
    "min_purity = 0.1\n",
    "alpha = 0.35\n",
    "#out_dir = '../../../../primary_data/main_mosaic_6by5/SAM_EDX_masks_tiff/'\n",
    "out_dir = '../../../../primary_data/main_mosaic_6by5/SAM_EDX_masks_png/'"
   ]
  },
  {
   "cell_type": "code",
   "execution_count": 17,
   "id": "734a6f86",
   "metadata": {},
   "outputs": [
    {
     "name": "stdout",
     "output_type": "stream",
     "text": [
      "[0. 1. 3. 4. 5.]\n",
      "[[1, 0, 0], [0, 1, 0], [0, 1, 1], [1, 0, 1], [1, 1, 0]]\n",
      "[0. 1. 3. 4.]\n",
      "[[1, 0, 0], [0, 1, 0], [0, 1, 1], [1, 0, 1]]\n",
      "[0. 2. 3. 4. 5.]\n",
      "[[1, 0, 0], [0, 0, 1], [0, 1, 1], [1, 0, 1], [1, 1, 0]]\n",
      "[0. 1. 2. 3. 4.]\n",
      "[[1, 0, 0], [0, 1, 0], [0, 0, 1], [0, 1, 1], [1, 0, 1]]\n",
      "[0. 1. 3. 4. 5.]\n",
      "[[1, 0, 0], [0, 1, 0], [0, 1, 1], [1, 0, 1], [1, 1, 0]]\n",
      "[0. 1. 2. 3. 4.]\n",
      "[[1, 0, 0], [0, 1, 0], [0, 0, 1], [0, 1, 1], [1, 0, 1]]\n",
      "[0. 1. 2. 3. 4.]\n",
      "[[1, 0, 0], [0, 1, 0], [0, 0, 1], [0, 1, 1], [1, 0, 1]]\n",
      "[0. 1. 2. 3. 4.]\n",
      "[[1, 0, 0], [0, 1, 0], [0, 0, 1], [0, 1, 1], [1, 0, 1]]\n",
      "[0. 1. 3. 4. 5.]\n",
      "[[1, 0, 0], [0, 1, 0], [0, 1, 1], [1, 0, 1], [1, 1, 0]]\n",
      "[0. 1. 3. 4.]\n",
      "[[1, 0, 0], [0, 1, 0], [0, 1, 1], [1, 0, 1]]\n",
      "[0. 1. 4. 5.]\n",
      "[[1, 0, 0], [0, 1, 0], [1, 0, 1], [1, 1, 0]]\n",
      "[0. 1. 2. 4. 5.]\n",
      "[[1, 0, 0], [0, 1, 0], [0, 0, 1], [1, 0, 1], [1, 1, 0]]\n",
      "[0. 1. 2. 3. 4. 5.]\n",
      "[[1, 0, 0], [0, 1, 0], [0, 0, 1], [0, 1, 1], [1, 0, 1], [1, 1, 0]]\n",
      "[0. 1. 2. 3. 4. 5.]\n",
      "[[1, 0, 0], [0, 1, 0], [0, 0, 1], [0, 1, 1], [1, 0, 1], [1, 1, 0]]\n",
      "[0. 1. 2. 3. 4.]\n",
      "[[1, 0, 0], [0, 1, 0], [0, 0, 1], [0, 1, 1], [1, 0, 1]]\n",
      "[0. 3. 4.]\n",
      "[[1, 0, 0], [0, 1, 1], [1, 0, 1]]\n",
      "[1. 2. 4.]\n",
      "[[0, 1, 0], [0, 0, 1], [1, 0, 1]]\n",
      "[1. 3. 4. 5.]\n",
      "[[0, 1, 0], [0, 1, 1], [1, 0, 1], [1, 1, 0]]\n",
      "[0. 1. 3. 4. 5.]\n",
      "[[1, 0, 0], [0, 1, 0], [0, 1, 1], [1, 0, 1], [1, 1, 0]]\n",
      "[4.]\n",
      "[[1, 0, 1]]\n",
      "[0. 1. 2. 4. 5.]\n",
      "[[1, 0, 0], [0, 1, 0], [0, 0, 1], [1, 0, 1], [1, 1, 0]]\n",
      "[0. 1. 4. 5.]\n",
      "[[1, 0, 0], [0, 1, 0], [1, 0, 1], [1, 1, 0]]\n",
      "[1. 2. 4. 5.]\n",
      "[[0, 1, 0], [0, 0, 1], [1, 0, 1], [1, 1, 0]]\n",
      "[0. 1. 4. 5.]\n",
      "[[1, 0, 0], [0, 1, 0], [1, 0, 1], [1, 1, 0]]\n",
      "[0. 1. 2. 3. 4. 5.]\n",
      "[[1, 0, 0], [0, 1, 0], [0, 0, 1], [0, 1, 1], [1, 0, 1], [1, 1, 0]]\n",
      "[0. 1. 2. 4. 5.]\n",
      "[[1, 0, 0], [0, 1, 0], [0, 0, 1], [1, 0, 1], [1, 1, 0]]\n",
      "[1. 2. 4. 5.]\n",
      "[[0, 1, 0], [0, 0, 1], [1, 0, 1], [1, 1, 0]]\n",
      "[0. 1. 3. 4. 5.]\n",
      "[[1, 0, 0], [0, 1, 0], [0, 1, 1], [1, 0, 1], [1, 1, 0]]\n",
      "[0. 1. 2. 3. 4. 5.]\n",
      "[[1, 0, 0], [0, 1, 0], [0, 0, 1], [0, 1, 1], [1, 0, 1], [1, 1, 0]]\n",
      "[1. 2. 3. 4. 5.]\n",
      "[[0, 1, 0], [0, 0, 1], [0, 1, 1], [1, 0, 1], [1, 1, 0]]\n",
      "[ 735.  462.  155.  729. 1335.  146.]\n"
     ]
    }
   ],
   "source": [
    "%matplotlib inline\n",
    "sub_dir = 'haadf_%s_alpha_%02d_maxarea_%07d_minpurity_%02d_counting' % (str(overlay_haadf),int(alpha*100),area_thresh,int(min_purity*100))\n",
    "try:\n",
    "    os.mkdir(os.path.join(out_dir,sub_dir))\n",
    "    outpath = os.path.join(out_dir,sub_dir)\n",
    "except:\n",
    "    print('These options already exist.')\n",
    "    sys.exit(1)\n",
    "        \n",
    "\n",
    "org_cnt = np.zeros(6)\n",
    "for tile_idx in range(abundance_maps.shape[3]):\n",
    "    haadf = haadf_stack[tile_idx,:,:] \n",
    "    abundance_tile = abundance_maps[indices,:,:,tile_idx]\n",
    "    \n",
    "    # masks\n",
    "    # Get the masks\n",
    "    file = open(os.path.join(masks_path,'tile_%02d.pkl' % tile_idx),'rb')\n",
    "    masks = pickle.load(file)\n",
    "    \n",
    "    if overlay_haadf:\n",
    "        SamEDXImg,img_clr_idx,org_cnt_tmp = show_anns_EDX_quant(masks,abundance_tile,colors=colors,\n",
    "                                                                display=False,alpha = alpha,area_thresh=area_thresh,\n",
    "                                                                tile_idx=tile_idx,min_purity=min_purity)\n",
    "        org_cnt = org_cnt+org_cnt_tmp\n",
    "        tmp = np.unique(img_clr_idx)\n",
    "        tmp = tmp[tmp>=0]\n",
    "        print(tmp)\n",
    "        print([colors[int(i)] for i in tmp])\n",
    "        Img = label2rgb(img_clr_idx, image=255-haadf,colors=[colors[int(i)] for i in tmp],kind='overlay',alpha = alpha,bg_label=-1)\n",
    "\n",
    "        #tf.imwrite(os.path.join(outpath,'tile_%02d.tiff' % tile_idx),Img)\n",
    "    else:\n",
    "        Img = show_anns_EDX_specual(masks,abundance_tile,colors=colors,display=False,alpha = alpha,area_thresh=area_thresh)\n",
    "        #tf.imwrite(os.path.join(outpath,'tile_%02d.tiff' % tile_idx),(Img*255).astype('uint8'))\n",
    "    \n",
    "    f,ax = plt.subplots(figsize=(20,20))\n",
    "    plt.subplots_adjust(top = 1, bottom = 0, right = 1, left = 0, hspace = 0, wspace = 0)\n",
    "    ax.imshow(haadf,cmap='gray')\n",
    "    ax.imshow(Img)\n",
    "    plt.margins(0,0)\n",
    "    plt.axis('off')\n",
    "    plt.savefig(os.path.join(outpath,'tile_%02d.png' % tile_idx),dpi=300) #,bbox_inches='tight')\n",
    "    plt.close(f)\n",
    "\n",
    "print(org_cnt)\n",
    "    "
   ]
  },
  {
   "cell_type": "markdown",
   "id": "e74e036f",
   "metadata": {},
   "source": [
    "### Save SAM masks only"
   ]
  },
  {
   "cell_type": "code",
   "execution_count": null,
   "id": "3250e4b5",
   "metadata": {},
   "outputs": [],
   "source": [
    "alpha = 0.35\n",
    "area_thresh = 500000\n",
    "#out_dir = '../../../../primary_data/main_mosaic_6by5/SAM_EDX_masks_tiff/'\n",
    "out_dir = '../../../../primary_data/main_mosaic_6by5/SAM_EDX_masks_png/'"
   ]
  },
  {
   "cell_type": "code",
   "execution_count": null,
   "id": "0c12e60b",
   "metadata": {},
   "outputs": [],
   "source": [
    "%matplotlib inline\n",
    "sub_dir = 'SAM_output_%02d' % int(alpha*100)\n",
    "try:\n",
    "    os.mkdir(os.path.join(out_dir,sub_dir))\n",
    "    outpath = os.path.join(out_dir,sub_dir)\n",
    "except:\n",
    "    print('These options already exist.')\n",
    "    sys.exit(1)\n",
    "        \n",
    "for tile_idx in range(abundance_maps.shape[3]):\n",
    "    haadf = haadf_stack[tile_idx,:,:] \n",
    "    abundance_tile = abundance_maps[indices,:,:,tile_idx]\n",
    "    \n",
    "    # masks\n",
    "    # Get the masks\n",
    "    file = open(os.path.join(masks_path,'tile_%02d.pkl' % tile_idx),'rb')\n",
    "    masks = pickle.load(file)\n",
    "    \n",
    "    Img = show_anns(masks,display=False,randomColors=True,alpha = alpha,area_thresh=area_thresh)\n",
    "    #tf.imwrite(os.path.join(outpath,'tile_%02d.tiff' % tile_idx),(Img*255).astype('uint8'))\n",
    "    \n",
    "    f,ax = plt.subplots(figsize=(20,20))\n",
    "    plt.subplots_adjust(top = 1, bottom = 0, right = 1, left = 0, hspace = 0, wspace = 0)\n",
    "    ax.imshow(haadf,cmap='gray')\n",
    "    ax.imshow(Img)\n",
    "    plt.margins(0,0)\n",
    "    plt.axis('off')\n",
    "    plt.savefig(os.path.join(outpath,'tile_%02d.png' % tile_idx),dpi=300) #,bbox_inches='tight')\n",
    "    plt.close(f)"
   ]
  }
 ],
 "metadata": {
  "kernelspec": {
   "display_name": "edx",
   "language": "python",
   "name": "edx"
  },
  "language_info": {
   "codemirror_mode": {
    "name": "ipython",
    "version": 3
   },
   "file_extension": ".py",
   "mimetype": "text/x-python",
   "name": "python",
   "nbconvert_exporter": "python",
   "pygments_lexer": "ipython3",
   "version": "3.9.6"
  }
 },
 "nbformat": 4,
 "nbformat_minor": 5
}
