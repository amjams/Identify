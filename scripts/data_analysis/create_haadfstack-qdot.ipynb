{
 "cells": [
  {
   "cell_type": "code",
   "execution_count": 1,
   "id": "d9129ec0",
   "metadata": {},
   "outputs": [],
   "source": [
    "import numpy as np\n",
    "import os\n",
    "import sys\n",
    "sys.path.append(\"../\")\n",
    "from functions_EDX import *"
   ]
  },
  {
   "cell_type": "code",
   "execution_count": 4,
   "id": "75bfe350",
   "metadata": {},
   "outputs": [],
   "source": [
    "parent_folder = '../../../primary_data/qdot_mosaic/NPZ'"
   ]
  },
  {
   "cell_type": "code",
   "execution_count": 5,
   "id": "6a92f82a",
   "metadata": {},
   "outputs": [],
   "source": [
    "file_list = sorted(os.listdir(parent_folder))"
   ]
  },
  {
   "cell_type": "code",
   "execution_count": 6,
   "id": "8502e2c0",
   "metadata": {},
   "outputs": [],
   "source": [
    "haadf = np.zeros((1024,1024,len(file_list)))\n",
    "for tile_idx,tile in enumerate(file_list):\n",
    "    temp = rebin_XY(np.load(os.path.join(parent_folder,tile))['haadf'],1024)\n",
    "    haadf[:,:,tile_idx] = temp"
   ]
  },
  {
   "cell_type": "code",
   "execution_count": 7,
   "id": "c6e76404",
   "metadata": {},
   "outputs": [],
   "source": [
    "np.savez_compressed('../../secondary_data/qdot_mosaic_haadf.npz',haadf=haadf)"
   ]
  },
  {
   "cell_type": "code",
   "execution_count": null,
   "id": "2ab1955d",
   "metadata": {},
   "outputs": [],
   "source": []
  }
 ],
 "metadata": {
  "kernelspec": {
   "display_name": "edx",
   "language": "python",
   "name": "edx"
  },
  "language_info": {
   "codemirror_mode": {
    "name": "ipython",
    "version": 3
   },
   "file_extension": ".py",
   "mimetype": "text/x-python",
   "name": "python",
   "nbconvert_exporter": "python",
   "pygments_lexer": "ipython3",
   "version": "3.9.6"
  }
 },
 "nbformat": 4,
 "nbformat_minor": 5
}
