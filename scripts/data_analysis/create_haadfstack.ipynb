{
 "cells": [
  {
   "cell_type": "code",
   "execution_count": 19,
   "id": "d9129ec0",
   "metadata": {},
   "outputs": [],
   "source": [
    "import numpy as np\n",
    "import os\n",
    "import sys\n",
    "sys.path.append(\"../\")\n",
    "from functions_EDX import *"
   ]
  },
  {
   "cell_type": "code",
   "execution_count": 21,
   "id": "75bfe350",
   "metadata": {},
   "outputs": [],
   "source": [
    "parent_folder = '../../../primary_data/main_mosaic_6by5/NPZ'"
   ]
  },
  {
   "cell_type": "code",
   "execution_count": 23,
   "id": "6a92f82a",
   "metadata": {},
   "outputs": [],
   "source": [
    "file_list = sorted(os.listdir(parent_folder))"
   ]
  },
  {
   "cell_type": "code",
   "execution_count": 26,
   "id": "8502e2c0",
   "metadata": {},
   "outputs": [
    {
     "name": "stdout",
     "output_type": "stream",
     "text": [
      "0\n",
      "1\n",
      "2\n",
      "3\n",
      "4\n",
      "5\n",
      "6\n",
      "7\n",
      "8\n",
      "9\n",
      "10\n",
      "11\n",
      "12\n",
      "13\n",
      "14\n",
      "15\n",
      "16\n",
      "17\n",
      "18\n",
      "19\n",
      "20\n",
      "21\n",
      "22\n",
      "23\n",
      "24\n",
      "25\n",
      "26\n",
      "27\n",
      "28\n",
      "29\n"
     ]
    }
   ],
   "source": [
    "haadf = np.zeros((1024,1024,len(file_list)))\n",
    "for tile_idx,tile in enumerate(file_list):\n",
    "    temp = rebin_XY(np.load(os.path.join(parent_folder,tile))['haadf'],1024)\n",
    "    haadf[:,:,tile_idx] = temp"
   ]
  },
  {
   "cell_type": "code",
   "execution_count": 28,
   "id": "c6e76404",
   "metadata": {},
   "outputs": [],
   "source": [
    "np.savez_compressed('../../secondary_data/main_mosaic_5by6_haadf.npz',haadf=haadf)"
   ]
  }
 ],
 "metadata": {
  "kernelspec": {
   "display_name": "edx",
   "language": "python",
   "name": "edx"
  },
  "language_info": {
   "codemirror_mode": {
    "name": "ipython",
    "version": 3
   },
   "file_extension": ".py",
   "mimetype": "text/x-python",
   "name": "python",
   "nbconvert_exporter": "python",
   "pygments_lexer": "ipython3",
   "version": "3.9.6"
  }
 },
 "nbformat": 4,
 "nbformat_minor": 5
}
