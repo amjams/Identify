{
 "cells": [
  {
   "cell_type": "code",
   "execution_count": 1,
   "id": "a318dcc4",
   "metadata": {},
   "outputs": [],
   "source": [
    "import numpy as np\n",
    "import os\n",
    "import sys\n",
    "sys.path.append(\"../\")\n",
    "from functions_EDX import *"
   ]
  },
  {
   "cell_type": "code",
   "execution_count": 2,
   "id": "d42134b3",
   "metadata": {},
   "outputs": [],
   "source": [
    "parent_folder = '../../../primary_data/qdot_mosaic/NPZ'\n",
    "file_list = sorted(os.listdir(parent_folder))"
   ]
  },
  {
   "cell_type": "code",
   "execution_count": 3,
   "id": "d6d54705",
   "metadata": {},
   "outputs": [
    {
     "name": "stdout",
     "output_type": "stream",
     "text": [
      "4096\n"
     ]
    }
   ],
   "source": [
    "xray_energies = np.load(os.path.join(parent_folder,file_list[0]))['xray_energies']\n",
    "print(xray_energies.shape[0])"
   ]
  },
  {
   "cell_type": "code",
   "execution_count": 5,
   "id": "eac2f852",
   "metadata": {},
   "outputs": [
    {
     "name": "stdout",
     "output_type": "stream",
     "text": [
      "250\n"
     ]
    }
   ],
   "source": [
    "xray_energies = rebin_energies(xray_energies[96:],250)\n",
    "print(xray_energies.shape[0])\n",
    "np.savez_compressed('../../secondary_data/xray_energies.npz',xray_energies = xray_energies)"
   ]
  },
  {
   "cell_type": "code",
   "execution_count": null,
   "id": "8783273c",
   "metadata": {},
   "outputs": [],
   "source": []
  }
 ],
 "metadata": {
  "kernelspec": {
   "display_name": "Python 3 (ipykernel)",
   "language": "python",
   "name": "python3"
  },
  "language_info": {
   "codemirror_mode": {
    "name": "ipython",
    "version": 3
   },
   "file_extension": ".py",
   "mimetype": "text/x-python",
   "name": "python",
   "nbconvert_exporter": "python",
   "pygments_lexer": "ipython3",
   "version": "3.9.13"
  }
 },
 "nbformat": 4,
 "nbformat_minor": 5
}
