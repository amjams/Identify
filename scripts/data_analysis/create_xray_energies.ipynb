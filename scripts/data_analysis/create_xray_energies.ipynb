{
 "cells": [
  {
   "cell_type": "code",
   "execution_count": 1,
   "id": "0890d9e0",
   "metadata": {},
   "outputs": [],
   "source": [
    "import numpy as np\n",
    "import os\n",
    "import sys\n",
    "sys.path.append(\"../\")\n",
    "from functions_EDX import *"
   ]
  },
  {
   "cell_type": "code",
   "execution_count": 2,
   "id": "28a4695e",
   "metadata": {},
   "outputs": [],
   "source": [
    "parent_folder = '../../../primary_data/qdot_mosaic/NPZ'\n",
    "file_list = sorted(os.listdir(parent_folder))"
   ]
  },
  {
   "cell_type": "code",
   "execution_count": 5,
   "id": "8463014f",
   "metadata": {},
   "outputs": [
    {
     "name": "stdout",
     "output_type": "stream",
     "text": [
      "(4096,)\n"
     ]
    }
   ],
   "source": [
    "xray_energies = np.load(os.path.join(parent_folder,file_list[0]))['xray_energies']\n",
    "print(xray_energies.shape)"
   ]
  },
  {
   "cell_type": "code",
   "execution_count": null,
   "id": "68619940",
   "metadata": {},
   "outputs": [],
   "source": [
    "np.savez_compress('../../secondary_data/xray_ene')"
   ]
  }
 ],
 "metadata": {
  "kernelspec": {
   "display_name": "edx",
   "language": "python",
   "name": "edx"
  },
  "language_info": {
   "codemirror_mode": {
    "name": "ipython",
    "version": 3
   },
   "file_extension": ".py",
   "mimetype": "text/x-python",
   "name": "python",
   "nbconvert_exporter": "python",
   "pygments_lexer": "ipython3",
   "version": "3.9.6"
  }
 },
 "nbformat": 4,
 "nbformat_minor": 5
}
